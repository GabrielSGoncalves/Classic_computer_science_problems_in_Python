{
 "cells": [
  {
   "cell_type": "code",
   "execution_count": 1,
   "metadata": {},
   "outputs": [],
   "source": [
    "from IPython.core.interactiveshell import InteractiveShell\n",
    "\n",
    "InteractiveShell.ast_node_interactivity = \"all\""
   ]
  },
  {
   "cell_type": "markdown",
   "metadata": {},
   "source": [
    "### 1.1.6. Fibonacci with a generator"
   ]
  },
  {
   "cell_type": "code",
   "execution_count": 2,
   "metadata": {},
   "outputs": [],
   "source": [
    "from typing import Generator\n",
    "def fib6(n: int) -> Generator[int, None, None]:\n",
    "    yield 0\n",
    "    if n > 0:\n",
    "        last: int = 0\n",
    "        next: int = 1\n",
    "        for _ in range(1, n):\n",
    "            last, next = next, last + next\n",
    "            yield next                "
   ]
  },
  {
   "cell_type": "code",
   "execution_count": 3,
   "metadata": {},
   "outputs": [
    {
     "name": "stdout",
     "output_type": "stream",
     "text": [
      "CPU times: user 5 µs, sys: 0 ns, total: 5 µs\n",
      "Wall time: 11.4 µs\n",
      "0\n",
      "1\n",
      "2\n",
      "3\n",
      "5\n",
      "8\n",
      "13\n",
      "21\n",
      "34\n",
      "55\n",
      "89\n",
      "144\n",
      "233\n",
      "377\n",
      "610\n",
      "987\n",
      "1597\n",
      "2584\n",
      "4181\n",
      "6765\n",
      "10946\n",
      "17711\n",
      "28657\n",
      "46368\n",
      "75025\n",
      "121393\n",
      "196418\n",
      "317811\n",
      "514229\n",
      "832040\n",
      "1346269\n",
      "2178309\n",
      "3524578\n",
      "5702887\n",
      "9227465\n",
      "14930352\n",
      "24157817\n",
      "39088169\n",
      "63245986\n",
      "102334155\n",
      "165580141\n",
      "267914296\n",
      "433494437\n",
      "701408733\n",
      "1134903170\n",
      "1836311903\n",
      "2971215073\n",
      "4807526976\n",
      "7778742049\n",
      "12586269025\n"
     ]
    }
   ],
   "source": [
    "%time\n",
    "for i in fib6(50):\n",
    "    print(i)"
   ]
  },
  {
   "cell_type": "markdown",
   "metadata": {},
   "source": [
    "### 1.2. Trivial compaction"
   ]
  },
  {
   "cell_type": "code",
   "execution_count": 4,
   "metadata": {},
   "outputs": [],
   "source": [
    "import sys"
   ]
  },
  {
   "cell_type": "code",
   "execution_count": 5,
   "metadata": {},
   "outputs": [],
   "source": [
    "x = 1100000"
   ]
  },
  {
   "cell_type": "code",
   "execution_count": 6,
   "metadata": {},
   "outputs": [
    {
     "data": {
      "text/plain": [
       "28"
      ]
     },
     "execution_count": 6,
     "metadata": {},
     "output_type": "execute_result"
    }
   ],
   "source": [
    "sys.getsizeof(x)"
   ]
  },
  {
   "cell_type": "code",
   "execution_count": 7,
   "metadata": {},
   "outputs": [],
   "source": [
    "class CompressedGene:\n",
    "    def __init__(self, gene:str) -> None:\n",
    "        self._compress(gene)\n",
    "    def _compress(self, gene:str) -> None:\n",
    "        self.bit_string: int = 1\n",
    "        for nucleotide in gene.upper():\n",
    "            self.bit_string <<= 2\n",
    "            if nucleotide == \"A\":\n",
    "                self.bit_string |= 0b00\n",
    "            elif nucleotide == \"C\":\n",
    "                self.bit_string |= 0b01\n",
    "            elif nucleotide == \"G\":\n",
    "                self.bit_string |= 0b10\n",
    "            elif nucleotide == \"T\":\n",
    "                self.bit_string |= 0b11\n",
    "            else:\n",
    "                raise ValueError(f'Invalid Nucleotide: {nucleotide}')\n",
    "    def decompress(self) -> str:\n",
    "        gene: str = ''\n",
    "        for i in range(self.bit_string.bit_length() - 1, 2):\n",
    "            bits: int = self.bit_string >> i & 0b11\n",
    "            if bits == 0b00:\n",
    "                gene += \"A\"\n",
    "            elif bits == 0b01:\n",
    "                gene += \"C\"\n",
    "            elif bits == 0b10:\n",
    "                gene += \"G\"\n",
    "            elif bits == 0b11:\n",
    "                gene += \"T\"\n",
    "            else:\n",
    "                raise ValueError(f'Invalid bits: {bits}')\n",
    "        return gene[::-1] \n",
    "            \n",
    "                 "
   ]
  },
  {
   "cell_type": "code",
   "execution_count": 8,
   "metadata": {},
   "outputs": [
    {
     "data": {
      "text/plain": [
       "2949"
      ]
     },
     "execution_count": 8,
     "metadata": {},
     "output_type": "execute_result"
    }
   ],
   "source": [
    "original_seq = \"ACTACGACGCAGATAGACAGTAGACGATA\" * 100\n",
    "sys.getsizeof(original_seq)"
   ]
  },
  {
   "cell_type": "code",
   "execution_count": 9,
   "metadata": {},
   "outputs": [
    {
     "data": {
      "text/plain": [
       "800"
      ]
     },
     "execution_count": 9,
     "metadata": {},
     "output_type": "execute_result"
    }
   ],
   "source": [
    "compressed: CompressedGene = CompressedGene(original_seq)\n",
    "sys.getsizeof(compressed.bit_string)"
   ]
  },
  {
   "cell_type": "code",
   "execution_count": 10,
   "metadata": {},
   "outputs": [
    {
     "data": {
      "text/plain": [
       "49"
      ]
     },
     "execution_count": 10,
     "metadata": {},
     "output_type": "execute_result"
    }
   ],
   "source": [
    "sys.getsizeof(compressed.decompress())"
   ]
  },
  {
   "cell_type": "markdown",
   "metadata": {},
   "source": [
    "### 1.3. Unbreakable Criptografy"
   ]
  },
  {
   "cell_type": "code",
   "execution_count": 11,
   "metadata": {},
   "outputs": [],
   "source": [
    "from secrets import token_bytes\n",
    "from typing import Tuple"
   ]
  },
  {
   "cell_type": "code",
   "execution_count": 12,
   "metadata": {},
   "outputs": [],
   "source": [
    "def random_key(length: int) -> int:\n",
    "    tb: bytes = token_bytes(length)\n",
    "    return int.from_bytes(tb, \"big\")"
   ]
  },
  {
   "cell_type": "code",
   "execution_count": 13,
   "metadata": {},
   "outputs": [
    {
     "data": {
      "text/plain": [
       "846015917"
      ]
     },
     "execution_count": 13,
     "metadata": {},
     "output_type": "execute_result"
    }
   ],
   "source": [
    "random_key(4)"
   ]
  },
  {
   "cell_type": "code",
   "execution_count": 14,
   "metadata": {},
   "outputs": [
    {
     "data": {
      "text/plain": [
       "b'\\x92\\xd5\\x9d7\\xfc\\x8d'"
      ]
     },
     "execution_count": 14,
     "metadata": {},
     "output_type": "execute_result"
    }
   ],
   "source": [
    "token_bytes(6)"
   ]
  },
  {
   "cell_type": "code",
   "execution_count": 15,
   "metadata": {},
   "outputs": [],
   "source": [
    "def encrypt(original: str) -> Tuple[int, int]:\n",
    "    original_bytes: bytes = original.encode()\n",
    "    dummy: int = random_key(len(original_bytes))\n",
    "    original_key: int = int.from_bytes(original_bytes, 'big')\n",
    "    encrypted: int = original_key ^ dummy # XOR\n",
    "    return dummy, encrypted        "
   ]
  },
  {
   "cell_type": "code",
   "execution_count": 16,
   "metadata": {},
   "outputs": [],
   "source": [
    "def decrypt(key1: int, key2: int) -> str:\n",
    "    decrypted: int = key1 ^ key2 # XOR\n",
    "    temp: bytes = decrypted.to_bytes((decrypted.bit_length() + 7) // 8, 'big')\n",
    "    return temp.decode()\n",
    "                                     "
   ]
  },
  {
   "cell_type": "code",
   "execution_count": 17,
   "metadata": {},
   "outputs": [],
   "source": [
    "key1, key2 =  encrypt('One Time Pad!')"
   ]
  },
  {
   "cell_type": "code",
   "execution_count": 18,
   "metadata": {},
   "outputs": [
    {
     "data": {
      "text/plain": [
       "'One Time Pad!'"
      ]
     },
     "execution_count": 18,
     "metadata": {},
     "output_type": "execute_result"
    }
   ],
   "source": [
    "decrypt(key1, key2)"
   ]
  },
  {
   "cell_type": "markdown",
   "metadata": {},
   "source": [
    "### 1.4. Calculating pi"
   ]
  },
  {
   "cell_type": "code",
   "execution_count": 19,
   "metadata": {},
   "outputs": [],
   "source": [
    "def calculate_pi(n_terms: int) -> float:\n",
    "    numerator: float = 4.0\n",
    "    denominator: float = 1.0\n",
    "    operation: float = 1.0\n",
    "    pi: float = 0.0\n",
    "    for _ in range(n_terms):\n",
    "        pi += operation * (numerator / denominator)\n",
    "        denominator += 2.0\n",
    "        operation *= -1.0\n",
    "    return pi"
   ]
  },
  {
   "cell_type": "code",
   "execution_count": 20,
   "metadata": {},
   "outputs": [
    {
     "name": "stdout",
     "output_type": "stream",
     "text": [
      "CPU times: user 167 ms, sys: 158 µs, total: 167 ms\n",
      "Wall time: 165 ms\n"
     ]
    },
    {
     "data": {
      "text/plain": [
       "3.1415916535897743"
      ]
     },
     "execution_count": 20,
     "metadata": {},
     "output_type": "execute_result"
    }
   ],
   "source": [
    "%time calculate_pi(1000000)"
   ]
  },
  {
   "cell_type": "markdown",
   "metadata": {},
   "source": [
    "### 1.5. Hanoi Towers"
   ]
  },
  {
   "cell_type": "code",
   "execution_count": 21,
   "metadata": {},
   "outputs": [],
   "source": [
    "from typing import TypeVar, Generic, List\n",
    "T = TypeVar('T')\n",
    "\n",
    "class Stack(Generic[T]):\n",
    "    def __init__(self) -> None:\n",
    "        self._container: List[T] = []\n",
    "    \n",
    "    @property\n",
    "    def empty(self) -> bool:\n",
    "        return not self._container\n",
    "    \n",
    "    def push(self, item: T) -> None:\n",
    "        self._container.append(item)\n",
    "    \n",
    "    def pop(self) -> None:\n",
    "        return self._container.pop() # LIFO\n",
    "    \n",
    "    def __repr__(self) -> None:\n",
    "        return repr(self._container)\n",
    "    "
   ]
  },
  {
   "cell_type": "code",
   "execution_count": 22,
   "metadata": {},
   "outputs": [],
   "source": [
    "def hanoi(begin: Stack[int], end: Stack[int], temp: Stack[int], n:int) -> None:\n",
    "    if n == 1:\n",
    "        end.push(begin.pop())\n",
    "    else:\n",
    "        hanoi(begin, temp, end, n - 1)\n",
    "        hanoi(begin, end, temp, 1)\n",
    "        hanoi(temp, end, begin, n - 1)"
   ]
  },
  {
   "cell_type": "code",
   "execution_count": 23,
   "metadata": {},
   "outputs": [
    {
     "name": "stdout",
     "output_type": "stream",
     "text": [
      "CPU times: user 14 µs, sys: 1 µs, total: 15 µs\n",
      "Wall time: 18.8 µs\n",
      "CPU times: user 19 µs, sys: 2 µs, total: 21 µs\n",
      "Wall time: 23.6 µs\n",
      "CPU times: user 28 µs, sys: 2 µs, total: 30 µs\n",
      "Wall time: 33.4 µs\n",
      "CPU times: user 49 µs, sys: 4 µs, total: 53 µs\n",
      "Wall time: 55.8 µs\n",
      "CPU times: user 94 µs, sys: 9 µs, total: 103 µs\n",
      "Wall time: 105 µs\n",
      "CPU times: user 179 µs, sys: 16 µs, total: 195 µs\n",
      "Wall time: 196 µs\n",
      "CPU times: user 464 µs, sys: 0 ns, total: 464 µs\n",
      "Wall time: 470 µs\n",
      "CPU times: user 724 µs, sys: 0 ns, total: 724 µs\n",
      "Wall time: 727 µs\n",
      "CPU times: user 1.46 ms, sys: 0 ns, total: 1.46 ms\n",
      "Wall time: 1.46 ms\n",
      "CPU times: user 2.91 ms, sys: 0 ns, total: 2.91 ms\n",
      "Wall time: 2.91 ms\n",
      "CPU times: user 6.52 ms, sys: 0 ns, total: 6.52 ms\n",
      "Wall time: 6.28 ms\n",
      "CPU times: user 12.5 ms, sys: 0 ns, total: 12.5 ms\n",
      "Wall time: 12.2 ms\n",
      "CPU times: user 27.2 ms, sys: 0 ns, total: 27.2 ms\n",
      "Wall time: 26.8 ms\n",
      "CPU times: user 55.2 ms, sys: 0 ns, total: 55.2 ms\n",
      "Wall time: 54.7 ms\n",
      "CPU times: user 108 ms, sys: 0 ns, total: 108 ms\n",
      "Wall time: 109 ms\n",
      "CPU times: user 207 ms, sys: 0 ns, total: 207 ms\n",
      "Wall time: 207 ms\n",
      "CPU times: user 499 ms, sys: 3.12 ms, total: 502 ms\n",
      "Wall time: 505 ms\n",
      "CPU times: user 678 ms, sys: 3.91 ms, total: 682 ms\n",
      "Wall time: 684 ms\n",
      "CPU times: user 1.37 s, sys: 0 ns, total: 1.37 s\n",
      "Wall time: 1.37 s\n",
      "CPU times: user 2.68 s, sys: 0 ns, total: 2.68 s\n",
      "Wall time: 2.68 s\n",
      "CPU times: user 5.38 s, sys: 3.51 ms, total: 5.38 s\n",
      "Wall time: 5.38 s\n",
      "CPU times: user 10.6 s, sys: 7.93 ms, total: 10.6 s\n",
      "Wall time: 10.6 s\n"
     ]
    }
   ],
   "source": [
    "for n in range(3, 25):\n",
    "    num_discs: int = n\n",
    "    tower_a: Stack[int] = Stack()\n",
    "    tower_b: Stack[int] = Stack()\n",
    "    tower_c: Stack[int] = Stack()\n",
    "\n",
    "    for i in range(1, num_discs + 1):\n",
    "        tower_a.push(i)\n",
    "\n",
    "    %time hanoi(tower_a, tower_b, tower_c, num_discs)\n"
   ]
  },
  {
   "cell_type": "markdown",
   "metadata": {},
   "source": [
    "## Chapter 2 - Search Problems\n",
    "### 2.1. Storing DNA"
   ]
  },
  {
   "cell_type": "code",
   "execution_count": 24,
   "metadata": {},
   "outputs": [],
   "source": [
    "from enum import IntEnum\n",
    "from typing import Tuple, List"
   ]
  },
  {
   "cell_type": "code",
   "execution_count": 25,
   "metadata": {},
   "outputs": [],
   "source": [
    "Nucleotide: IntEnum = IntEnum('Nucleotide', ('A', 'C', 'G', 'T'))\n",
    "Codon =  Tuple[Nucleotide, Nucleotide, Nucleotide]\n",
    "Gene =  List[Codon]"
   ]
  },
  {
   "cell_type": "code",
   "execution_count": 26,
   "metadata": {},
   "outputs": [
    {
     "data": {
      "text/plain": [
       "<Nucleotide.A: 1>"
      ]
     },
     "execution_count": 26,
     "metadata": {},
     "output_type": "execute_result"
    },
    {
     "data": {
      "text/plain": [
       "<Nucleotide.C: 2>"
      ]
     },
     "execution_count": 26,
     "metadata": {},
     "output_type": "execute_result"
    },
    {
     "data": {
      "text/plain": [
       "<Nucleotide.G: 3>"
      ]
     },
     "execution_count": 26,
     "metadata": {},
     "output_type": "execute_result"
    },
    {
     "data": {
      "text/plain": [
       "<Nucleotide.T: 4>"
      ]
     },
     "execution_count": 26,
     "metadata": {},
     "output_type": "execute_result"
    }
   ],
   "source": [
    "Nucleotide(1)\n",
    "Nucleotide(2)\n",
    "Nucleotide(3)\n",
    "Nucleotide(4)"
   ]
  },
  {
   "cell_type": "code",
   "execution_count": 27,
   "metadata": {},
   "outputs": [
    {
     "data": {
      "text/plain": [
       "typing.Tuple[__main__.Nucleotide, __main__.Nucleotide, __main__.Nucleotide]"
      ]
     },
     "execution_count": 27,
     "metadata": {},
     "output_type": "execute_result"
    }
   ],
   "source": [
    "Codon"
   ]
  },
  {
   "cell_type": "code",
   "execution_count": 28,
   "metadata": {},
   "outputs": [],
   "source": [
    "gene_str: str = 'ACGTGGCTCTCTAACGTACGTACGGGGTTTATATATACCCTAGGACTCCCTTT'"
   ]
  },
  {
   "cell_type": "code",
   "execution_count": 29,
   "metadata": {},
   "outputs": [],
   "source": [
    "def string_to_gene(s: str) -> Gene:\n",
    "    gene: Gene = []\n",
    "    for i in range(0, len(s), 3):\n",
    "        if (i + 2) >= len(s):\n",
    "            return gene\n",
    "        codon: Codon = (Nucleotide[s[i]], Nucleotide[s[i+1]], Nucleotide[s[i+2]])\n",
    "        gene.append(codon)\n",
    "    return gene"
   ]
  },
  {
   "cell_type": "code",
   "execution_count": 30,
   "metadata": {},
   "outputs": [],
   "source": [
    "my_gene: Gene = string_to_gene(gene_str)"
   ]
  },
  {
   "cell_type": "code",
   "execution_count": 31,
   "metadata": {},
   "outputs": [
    {
     "data": {
      "text/plain": [
       "[(<Nucleotide.A: 1>, <Nucleotide.C: 2>, <Nucleotide.G: 3>),\n",
       " (<Nucleotide.T: 4>, <Nucleotide.G: 3>, <Nucleotide.G: 3>),\n",
       " (<Nucleotide.C: 2>, <Nucleotide.T: 4>, <Nucleotide.C: 2>),\n",
       " (<Nucleotide.T: 4>, <Nucleotide.C: 2>, <Nucleotide.T: 4>),\n",
       " (<Nucleotide.A: 1>, <Nucleotide.A: 1>, <Nucleotide.C: 2>),\n",
       " (<Nucleotide.G: 3>, <Nucleotide.T: 4>, <Nucleotide.A: 1>),\n",
       " (<Nucleotide.C: 2>, <Nucleotide.G: 3>, <Nucleotide.T: 4>),\n",
       " (<Nucleotide.A: 1>, <Nucleotide.C: 2>, <Nucleotide.G: 3>),\n",
       " (<Nucleotide.G: 3>, <Nucleotide.G: 3>, <Nucleotide.G: 3>),\n",
       " (<Nucleotide.T: 4>, <Nucleotide.T: 4>, <Nucleotide.T: 4>),\n",
       " (<Nucleotide.A: 1>, <Nucleotide.T: 4>, <Nucleotide.A: 1>),\n",
       " (<Nucleotide.T: 4>, <Nucleotide.A: 1>, <Nucleotide.T: 4>),\n",
       " (<Nucleotide.A: 1>, <Nucleotide.C: 2>, <Nucleotide.C: 2>),\n",
       " (<Nucleotide.C: 2>, <Nucleotide.T: 4>, <Nucleotide.A: 1>),\n",
       " (<Nucleotide.G: 3>, <Nucleotide.G: 3>, <Nucleotide.A: 1>),\n",
       " (<Nucleotide.C: 2>, <Nucleotide.T: 4>, <Nucleotide.C: 2>),\n",
       " (<Nucleotide.C: 2>, <Nucleotide.C: 2>, <Nucleotide.T: 4>)]"
      ]
     },
     "execution_count": 31,
     "metadata": {},
     "output_type": "execute_result"
    }
   ],
   "source": [
    "my_gene"
   ]
  },
  {
   "cell_type": "code",
   "execution_count": 32,
   "metadata": {},
   "outputs": [],
   "source": [
    "def linear_contains(gene: Gene, key_codon: Codon) -> bool:\n",
    "    for codon in gene:\n",
    "        if codon == key_codon:\n",
    "            return True\n",
    "    return False"
   ]
  },
  {
   "cell_type": "code",
   "execution_count": 33,
   "metadata": {},
   "outputs": [],
   "source": [
    "acg: Codon = (Nucleotide.A, Nucleotide.C, Nucleotide.G)\n",
    "gat: Codon = (Nucleotide.G, Nucleotide.A, Nucleotide.T)"
   ]
  },
  {
   "cell_type": "code",
   "execution_count": 34,
   "metadata": {},
   "outputs": [
    {
     "name": "stdout",
     "output_type": "stream",
     "text": [
      "True\n",
      "False\n"
     ]
    }
   ],
   "source": [
    "print(linear_contains(my_gene, acg))\n",
    "print(linear_contains(my_gene, gat))"
   ]
  },
  {
   "cell_type": "markdown",
   "metadata": {},
   "source": [
    "### 2.1. Binary Search"
   ]
  },
  {
   "cell_type": "code",
   "execution_count": 35,
   "metadata": {},
   "outputs": [],
   "source": [
    "def binary_contains(gene: Gene, key_codon: Codon) -> bool:\n",
    "    low: int = 0\n",
    "    high: int = len(gene) - 1\n",
    "    while low <= high:\n",
    "        mid: int =  (low + high) // 2\n",
    "        if gene[mid] < key_codon:\n",
    "            low = mid + 1\n",
    "        elif gene[mid] > key_codon:\n",
    "            high = mid - 1\n",
    "        else:\n",
    "            return True\n",
    "    return False        "
   ]
  },
  {
   "cell_type": "code",
   "execution_count": 36,
   "metadata": {},
   "outputs": [
    {
     "data": {
      "text/plain": [
       "[(<Nucleotide.A: 1>, <Nucleotide.A: 1>, <Nucleotide.C: 2>),\n",
       " (<Nucleotide.A: 1>, <Nucleotide.C: 2>, <Nucleotide.C: 2>),\n",
       " (<Nucleotide.A: 1>, <Nucleotide.C: 2>, <Nucleotide.G: 3>),\n",
       " (<Nucleotide.A: 1>, <Nucleotide.C: 2>, <Nucleotide.G: 3>),\n",
       " (<Nucleotide.A: 1>, <Nucleotide.T: 4>, <Nucleotide.A: 1>),\n",
       " (<Nucleotide.C: 2>, <Nucleotide.C: 2>, <Nucleotide.T: 4>),\n",
       " (<Nucleotide.C: 2>, <Nucleotide.G: 3>, <Nucleotide.T: 4>),\n",
       " (<Nucleotide.C: 2>, <Nucleotide.T: 4>, <Nucleotide.A: 1>),\n",
       " (<Nucleotide.C: 2>, <Nucleotide.T: 4>, <Nucleotide.C: 2>),\n",
       " (<Nucleotide.C: 2>, <Nucleotide.T: 4>, <Nucleotide.C: 2>),\n",
       " (<Nucleotide.G: 3>, <Nucleotide.G: 3>, <Nucleotide.A: 1>),\n",
       " (<Nucleotide.G: 3>, <Nucleotide.G: 3>, <Nucleotide.G: 3>),\n",
       " (<Nucleotide.G: 3>, <Nucleotide.T: 4>, <Nucleotide.A: 1>),\n",
       " (<Nucleotide.T: 4>, <Nucleotide.A: 1>, <Nucleotide.T: 4>),\n",
       " (<Nucleotide.T: 4>, <Nucleotide.C: 2>, <Nucleotide.T: 4>),\n",
       " (<Nucleotide.T: 4>, <Nucleotide.G: 3>, <Nucleotide.G: 3>),\n",
       " (<Nucleotide.T: 4>, <Nucleotide.T: 4>, <Nucleotide.T: 4>)]"
      ]
     },
     "execution_count": 36,
     "metadata": {},
     "output_type": "execute_result"
    }
   ],
   "source": [
    "my_sorted_gene: Gene = sorted(my_gene)\n",
    "my_sorted_gene"
   ]
  },
  {
   "cell_type": "code",
   "execution_count": 37,
   "metadata": {},
   "outputs": [
    {
     "name": "stdout",
     "output_type": "stream",
     "text": [
      "CPU times: user 7 µs, sys: 0 ns, total: 7 µs\n",
      "Wall time: 10.5 µs\n"
     ]
    },
    {
     "data": {
      "text/plain": [
       "True"
      ]
     },
     "execution_count": 37,
     "metadata": {},
     "output_type": "execute_result"
    },
    {
     "name": "stdout",
     "output_type": "stream",
     "text": [
      "CPU times: user 8 µs, sys: 0 ns, total: 8 µs\n",
      "Wall time: 12.4 µs\n"
     ]
    },
    {
     "data": {
      "text/plain": [
       "True"
      ]
     },
     "execution_count": 37,
     "metadata": {},
     "output_type": "execute_result"
    },
    {
     "name": "stdout",
     "output_type": "stream",
     "text": [
      "CPU times: user 12 µs, sys: 0 ns, total: 12 µs\n",
      "Wall time: 17.2 µs\n"
     ]
    },
    {
     "data": {
      "text/plain": [
       "False"
      ]
     },
     "execution_count": 37,
     "metadata": {},
     "output_type": "execute_result"
    },
    {
     "name": "stdout",
     "output_type": "stream",
     "text": [
      "CPU times: user 18 µs, sys: 0 ns, total: 18 µs\n",
      "Wall time: 26 µs\n"
     ]
    },
    {
     "data": {
      "text/plain": [
       "False"
      ]
     },
     "execution_count": 37,
     "metadata": {},
     "output_type": "execute_result"
    }
   ],
   "source": [
    "%time binary_contains(my_sorted_gene, acg)\n",
    "%time linear_contains(my_sorted_gene, acg)\n",
    "\n",
    "%time binary_contains(my_sorted_gene, gat)\n",
    "%time linear_contains(my_sorted_gene, gat)"
   ]
  },
  {
   "cell_type": "markdown",
   "metadata": {},
   "source": [
    "### 2.1.4 Generic example"
   ]
  },
  {
   "cell_type": "code",
   "execution_count": 38,
   "metadata": {},
   "outputs": [],
   "source": [
    "from __future__ import annotations\n",
    "from typing_extensions import Protocol\n",
    "from typing import TypeVar, Iterable, Sequence, Generic, List, Callable, Set, Deque, Dict, Any, Optional\n",
    "from heapq import heappush, heappop"
   ]
  },
  {
   "cell_type": "code",
   "execution_count": 39,
   "metadata": {},
   "outputs": [],
   "source": [
    "T = TypeVar('T')\n",
    "\n",
    "def linear_contains(iterable: Iterable[T], key: T) -> bool:\n",
    "    for item in iterable:\n",
    "        if item == key:\n",
    "            return True\n",
    "    return False\n",
    "\n",
    "C = TypeVar('C', bound='Comparable')"
   ]
  },
  {
   "cell_type": "code",
   "execution_count": 40,
   "metadata": {},
   "outputs": [],
   "source": [
    "class Comparable(Protocol):\n",
    "    \n",
    "    def __eq__(self, other: Any) -> bool:\n",
    "        ...\n",
    "    \n",
    "    def __lt__(self: C, other: C) -> bool:\n",
    "        ...\n",
    "    \n",
    "    def __gt__(self: C, other: C) -> bool:\n",
    "        return(not self < other) and self != other\n",
    "    \n",
    "    def __le__(self: C, other: C) -> bool:\n",
    "        return self < other or self == other\n",
    "    \n",
    "    def __ge__(self: C, other: C) -> bool:\n",
    "        return not self < other\n",
    "\n",
    "def binary_contains(sequence: Sequence[C], key: C) -> bool:\n",
    "    low: int = 0\n",
    "    high: int = len(sequence) - 1\n",
    "    while low <= high:\n",
    "        mid: int =  (low + high) // 2\n",
    "        if sequence[mid] < key:\n",
    "            low = mid + 1\n",
    "        elif sequence[mid] > key:\n",
    "            high = mid - 1\n",
    "        else:\n",
    "            return True\n",
    "    return False            "
   ]
  },
  {
   "cell_type": "code",
   "execution_count": 41,
   "metadata": {},
   "outputs": [
    {
     "name": "stdout",
     "output_type": "stream",
     "text": [
      "CPU times: user 6 µs, sys: 0 ns, total: 6 µs\n",
      "Wall time: 8.58 µs\n"
     ]
    },
    {
     "data": {
      "text/plain": [
       "True"
      ]
     },
     "execution_count": 41,
     "metadata": {},
     "output_type": "execute_result"
    },
    {
     "name": "stdout",
     "output_type": "stream",
     "text": [
      "CPU times: user 10 µs, sys: 0 ns, total: 10 µs\n",
      "Wall time: 15.3 µs\n"
     ]
    },
    {
     "data": {
      "text/plain": [
       "True"
      ]
     },
     "execution_count": 41,
     "metadata": {},
     "output_type": "execute_result"
    },
    {
     "name": "stdout",
     "output_type": "stream",
     "text": [
      "CPU times: user 8 µs, sys: 0 ns, total: 8 µs\n",
      "Wall time: 11.9 µs\n"
     ]
    },
    {
     "data": {
      "text/plain": [
       "True"
      ]
     },
     "execution_count": 41,
     "metadata": {},
     "output_type": "execute_result"
    },
    {
     "name": "stdout",
     "output_type": "stream",
     "text": [
      "CPU times: user 9 µs, sys: 0 ns, total: 9 µs\n",
      "Wall time: 14.1 µs\n"
     ]
    },
    {
     "data": {
      "text/plain": [
       "True"
      ]
     },
     "execution_count": 41,
     "metadata": {},
     "output_type": "execute_result"
    },
    {
     "name": "stdout",
     "output_type": "stream",
     "text": [
      "CPU times: user 7 µs, sys: 0 ns, total: 7 µs\n",
      "Wall time: 11.4 µs\n"
     ]
    },
    {
     "data": {
      "text/plain": [
       "False"
      ]
     },
     "execution_count": 41,
     "metadata": {},
     "output_type": "execute_result"
    },
    {
     "name": "stdout",
     "output_type": "stream",
     "text": [
      "CPU times: user 9 µs, sys: 0 ns, total: 9 µs\n",
      "Wall time: 13.4 µs\n"
     ]
    },
    {
     "data": {
      "text/plain": [
       "False"
      ]
     },
     "execution_count": 41,
     "metadata": {},
     "output_type": "execute_result"
    }
   ],
   "source": [
    "%time linear_contains([1, 5, 15, 15, 15, 15, 20], 5)\n",
    "%time binary_contains([1, 5, 15, 15, 15, 15, 20], 5)\n",
    "\n",
    "%time linear_contains(['a', 'd', 'e', 'f', 'z'], 'f')\n",
    "%time binary_contains(['a', 'd', 'e', 'f', 'z'], 'f')\n",
    "\n",
    "\n",
    "%time linear_contains(['John', 'Mark', 'Ronald', 'Sarah'], 'Sheila')\n",
    "%time binary_contains(['John', 'Mark', 'Ronald', 'Sarah'], 'Sheila')\n"
   ]
  },
  {
   "cell_type": "markdown",
   "metadata": {},
   "source": [
    "### 2.2 Labyrinths"
   ]
  },
  {
   "cell_type": "code",
   "execution_count": 42,
   "metadata": {},
   "outputs": [],
   "source": [
    "from enum import Enum\n",
    "from typing import List, NamedTuple, Callable, Optional\n",
    "import random\n",
    "from math import sqrt\n",
    "#from generic_search import dfs, bfs, node_to_path, astar, Node\n",
    "\n",
    "class Cell(str, Enum):\n",
    "    EMPTY = \" \"\n",
    "    BLOCKED = \"X\"\n",
    "    START = \"S\"\n",
    "    GOAL = \"G\"\n",
    "    PATH = \"*\"\n",
    "\n",
    "class MazeLocation(NamedTuple):\n",
    "    row: int\n",
    "    column: int"
   ]
  },
  {
   "cell_type": "code",
   "execution_count": 43,
   "metadata": {},
   "outputs": [],
   "source": [
    "class Maze:\n",
    "    def __init__(self, \n",
    "                 rows: int = 10, \n",
    "                 columns: int = 10, \n",
    "                 sparseness: float = 0.2, start: MazeLocation = MazeLocation(0, 0), goal: MazeLocation = MazeLocation(9, 9)) -> None:\n",
    "        # initialize basic instance variables\n",
    "        self._rows: int = rows\n",
    "        self._columns: int = columns\n",
    "        self.start: MazeLocation = start\n",
    "        self.goal: MazeLocation = goal\n",
    "        # fill the grid with empty cells\n",
    "        self._grid: List[List[Cell]] = [[Cell.EMPTY for c in range(columns)] for r in range(rows)]\n",
    "        # populate the grid with blocked cells\n",
    "        self._randomly_fill(rows, columns, sparseness)\n",
    "        # fill the start and goal locations in\n",
    "        self._grid[start.row][start.column] = Cell.START\n",
    "        self._grid[goal.row][goal.column] = Cell.GOAL\n",
    "\n",
    "    def _randomly_fill(self, rows: int, columns: int, sparseness: float):\n",
    "        for row in range(rows):\n",
    "            for column in range(columns):\n",
    "                if random.uniform(0, 1.0) < sparseness:\n",
    "                    self._grid[row][column] = Cell.BLOCKED\n",
    "\n",
    "    # return a nicely formatted version of the maze for printing\n",
    "    def __str__(self) -> str:\n",
    "        output: str = \"\"\n",
    "        for row in self._grid:\n",
    "            output += \"\".join([c.value for c in row]) + \"\\n\"\n",
    "        return output\n",
    "    \n",
    "    def goal_test(self, ml: MazeLocation) -> bool:\n",
    "        return ml == self.goal\n",
    "    \n",
    "    def sucessors(self, ml: MazeLocation) -> List[MazeLocation]:\n",
    "        locations: List[MazeLocation] = []\n",
    "        if ml.row + 1 < self._rows and self._grid[ml.row + 1][ml.column] != Cell.BLOCKED:\n",
    "            locations.append(MazeLocation(ml.row + 1, ml.column))\n",
    "        if ml.row - 1 >= 0 and self._grid[ml.row - 1][ml.column] != Cell.BLOCKED:\n",
    "            locations.append(MazeLocation(ml.row - 1, ml.column))\n",
    "        if ml.column + 1 < self._columns and self._grid[ml.row][ml.column + 1] != Cell.BLOCKED:\n",
    "            locations.append(MazeLocation(ml.row, ml.column + 1))\n",
    "        if ml.column - 1 >= 0 and self._grid[ml.row][ml.column - 1] != Cell.BLOCKED:\n",
    "            locations.append(MazeLocation(ml.row, ml.column - 1))\n",
    "        return locations\n",
    "    \n",
    "    def mark(self, path: List[MazeLocation]):\n",
    "        for maze_location in path:\n",
    "            self._grid[maze_location.row][maze_location.column] = Cell.PATH        \n",
    "        self._grid[self.start.row][self.start.column] = Cell.START\n",
    "        self._grid[self.goal.row][self.goal.column] = Cell.GOAL\n",
    "    \n",
    "    def clear(self, path: List[MazeLocation]):\n",
    "        for maze_location in path:\n",
    "            self._grid[maze_location.row][maze_location.column] = Cell.EMPTY        \n",
    "        self._grid[self.start.row][self.start.column] = Cell.START\n",
    "        self._grid[self.goal.row][self.goal.column] = Cell.GOAL"
   ]
  },
  {
   "cell_type": "code",
   "execution_count": 44,
   "metadata": {},
   "outputs": [
    {
     "name": "stdout",
     "output_type": "stream",
     "text": [
      "S   X  X  \n",
      " X X X    \n",
      " X X X X  \n",
      "X     X X \n",
      "          \n",
      "   X      \n",
      "         X\n",
      " X X   XXX\n",
      " X        \n",
      " X X X XXG\n",
      "\n"
     ]
    }
   ],
   "source": [
    "maze: Maze = Maze()\n",
    "print(maze)"
   ]
  },
  {
   "cell_type": "markdown",
   "metadata": {},
   "source": [
    "### 2.2.3. Depth-First Search (DFS)"
   ]
  },
  {
   "cell_type": "code",
   "execution_count": 45,
   "metadata": {},
   "outputs": [],
   "source": [
    "class Node(Generic[T]):\n",
    "    def __init__(self, state: T, parent: Optional[Node], cost: float=0.0, heuristic: float=0.0) -> None:\n",
    "        self.state: T = state\n",
    "        self.parent: Optional[Node] = parent\n",
    "        self.cost: float = cost\n",
    "        self.heuristic: float = heuristic\n",
    "    \n",
    "    def __lt__(self, other:Node) -> bool:\n",
    "        return (self.cost + self.heuristic) < (other.cost + other.heuristic)\n",
    "\n",
    "def dfs(initial: T, goal_test: Callable[[T], bool], sucessors: Callable[[T], List[T]]) -> Optional[Node[T]]:\n",
    "    frontier: Stack[Node[T]] = Stack()\n",
    "    frontier.push(Node(initial, None))\n",
    "    explored: Set[T] = {initial}\n",
    "    \n",
    "    while not frontier.empty:\n",
    "        current_node: Node[T] = frontier.pop()\n",
    "        current_state: T = current_node.state\n",
    "        \n",
    "        if goal_test(current_state):\n",
    "            return current_node\n",
    "        \n",
    "        for child in sucessors(current_state):\n",
    "            if child in explored:\n",
    "                continue\n",
    "            explored.add(child)\n",
    "            frontier.push(Node(child, current_node))\n",
    "    return None"
   ]
  },
  {
   "cell_type": "code",
   "execution_count": 46,
   "metadata": {},
   "outputs": [],
   "source": [
    "def node_to_path(node: Node[T]) -> List[T]:\n",
    "    path: List[T] = [node.state]\n",
    "    \n",
    "    while node.parent is not None:\n",
    "        node = node.parent\n",
    "        path.append(node.state)\n",
    "    \n",
    "    path.reverse()\n",
    "    return path"
   ]
  },
  {
   "cell_type": "code",
   "execution_count": 47,
   "metadata": {},
   "outputs": [
    {
     "name": "stdout",
     "output_type": "stream",
     "text": [
      "S     X   \n",
      "          \n",
      "      XX  \n",
      " X XX    X\n",
      "  X   X XX\n",
      "          \n",
      "   X   X X\n",
      "      X   \n",
      "  X       \n",
      "    X   XG\n",
      "\n"
     ]
    }
   ],
   "source": [
    "### Running the maze process\n",
    "m: Maze = Maze()\n",
    "print(m)"
   ]
  },
  {
   "cell_type": "code",
   "execution_count": 48,
   "metadata": {},
   "outputs": [
    {
     "name": "stdout",
     "output_type": "stream",
     "text": [
      "S*****X   \n",
      "     **** \n",
      "      XX* \n",
      " X XX****X\n",
      "  X***X XX\n",
      "****  *** \n",
      "*  X **X*X\n",
      "******X **\n",
      "  X      *\n",
      "    X   XG\n",
      "\n"
     ]
    }
   ],
   "source": [
    "solution1: Optional[Node[MazeLocation]] = dfs(m.start, m.goal_test, m.sucessors)\n",
    "if solution1 is None:\n",
    "    print('No solution found using depth-first search!')\n",
    "else:\n",
    "    path1: List[MazeLocation] = node_to_path(solution1)\n",
    "    m.mark(path1)\n",
    "    print(m)\n",
    "    m.clear(path1)"
   ]
  },
  {
   "cell_type": "markdown",
   "metadata": {},
   "source": [
    "### 2.2.4. Breadth-First Search (BFS)"
   ]
  },
  {
   "cell_type": "code",
   "execution_count": 49,
   "metadata": {},
   "outputs": [],
   "source": [
    "class Queue(Generic[T]):\n",
    "    def __init__(self) -> None:\n",
    "        self._container: Deque[T] = Deque()\n",
    "    \n",
    "    @property\n",
    "    def empty(self) -> Bool:\n",
    "        return not self._container\n",
    "    \n",
    "    def push(self, item: T) -> None:\n",
    "        self._container.append(item)\n",
    "    \n",
    "    def pop(self) -> T:\n",
    "        return self._container.popleft() # FIFO\n",
    "    \n",
    "    def __repr__(self) -> str:\n",
    "        return repr(self._container)\n"
   ]
  },
  {
   "cell_type": "code",
   "execution_count": 50,
   "metadata": {},
   "outputs": [],
   "source": [
    "def bfs(initial: T, goal_test: Callable[[T], bool], successors: Callable[[T], List[T]]) -> Optional[Node[T]]:\n",
    "    # frontier is where we've yet to go\n",
    "    frontier: Queue[Node[T]] = Queue()\n",
    "    frontier.push(Node(initial, None))\n",
    "    # explored is where we've been\n",
    "    explored: Set[T] = {initial}\n",
    "\n",
    "    # keep going while there is more to explore\n",
    "    while not frontier.empty:\n",
    "        current_node: Node[T] = frontier.pop()\n",
    "        current_state: T = current_node.state\n",
    "        # if we found the goal, we're done\n",
    "        if goal_test(current_state):\n",
    "            return current_node\n",
    "        # check where we can go next and haven't explored\n",
    "        for child in successors(current_state):\n",
    "            if child in explored:  # skip children we already explored\n",
    "                continue\n",
    "            explored.add(child)\n",
    "            frontier.push(Node(child, current_node))\n",
    "    return None  # went through everything and never found goal"
   ]
  },
  {
   "cell_type": "code",
   "execution_count": 51,
   "metadata": {},
   "outputs": [
    {
     "name": "stdout",
     "output_type": "stream",
     "text": [
      "S     X   \n",
      "*         \n",
      "*     XX  \n",
      "*X XX    X\n",
      "* X   X XX\n",
      "*         \n",
      "*  X   X X\n",
      "****  X   \n",
      "  X*******\n",
      "    X   XG\n",
      "\n"
     ]
    }
   ],
   "source": [
    "solution2: Optional[Node[MazeLocation]] = bfs(m.start, m.goal_test, m.sucessors)\n",
    "if solution2 is None:\n",
    "    print('No solution found using BFS!')\n",
    "else:\n",
    "    path2: List[MazeLocation] = node_to_path(solution2)\n",
    "    m.mark(path2)\n",
    "    print(m)\n",
    "    m.clear(path2)"
   ]
  },
  {
   "cell_type": "markdown",
   "metadata": {},
   "source": [
    "### 2.2.5. Astar search"
   ]
  },
  {
   "cell_type": "code",
   "execution_count": 52,
   "metadata": {},
   "outputs": [],
   "source": [
    "class PriorityQueue(Generic[T]):\n",
    "    def __init__(self) -> None:\n",
    "        self._container: List[T] = []\n",
    "\n",
    "    @property\n",
    "    def empty(self) -> bool:\n",
    "        return not self._container  # not is true for empty container\n",
    "\n",
    "    def push(self, item: T) -> None:\n",
    "        heappush(self._container, item)  # in by priority\n",
    "\n",
    "    def pop(self) -> T:\n",
    "        return heappop(self._container)  # out by priority\n",
    "\n",
    "    def __repr__(self) -> str:\n",
    "        return repr(self._container)"
   ]
  },
  {
   "cell_type": "code",
   "execution_count": 53,
   "metadata": {},
   "outputs": [],
   "source": [
    "def euclidean_distance(goal: MazeLocation) -> Callable[[MazeLocation], float]:\n",
    "    def distance(ml: MazeLocation) -> float:\n",
    "        xdist: int = ml.column - goal.column\n",
    "        ydist: int = ml.row - goal.row\n",
    "        return sqrt((xdist * xdist) + (ydist * ydist))\n",
    "    return distance"
   ]
  },
  {
   "cell_type": "code",
   "execution_count": 54,
   "metadata": {},
   "outputs": [
    {
     "data": {
      "text/plain": [
       "<function __main__.euclidean_distance.<locals>.distance(ml: 'MazeLocation') -> 'float'>"
      ]
     },
     "execution_count": 54,
     "metadata": {},
     "output_type": "execute_result"
    }
   ],
   "source": [
    "location = MazeLocation(3,3)\n",
    "euclidean_distance(location)"
   ]
  },
  {
   "cell_type": "code",
   "execution_count": 55,
   "metadata": {},
   "outputs": [],
   "source": [
    "def manhattan_distance(goal: MazeLocation) -> Callable[[MazeLocation], float]:\n",
    "    def distance(ml: MazeLocation) -> float:\n",
    "        xdist: int = abs(ml.column - goal.column)\n",
    "        ydist: int = abs(ml.row - goal.row)\n",
    "        return (xdist + ydist)\n",
    "    return distance"
   ]
  },
  {
   "cell_type": "code",
   "execution_count": 56,
   "metadata": {},
   "outputs": [],
   "source": [
    "def astar(initial: T, goal_test: Callable[[T], bool], successors: Callable[[T], List[T]], heuristic: Callable[[T], float]) -> Optional[Node[T]]:\n",
    "    # frontier is where we've yet to go\n",
    "    frontier: PriorityQueue[Node[T]] = PriorityQueue()\n",
    "    frontier.push(Node(initial, None, 0.0, heuristic(initial)))\n",
    "    # explored is where we've been\n",
    "    explored: Dict[T, float] = {initial: 0.0}\n",
    "\n",
    "    # keep going while there is more to explore\n",
    "    while not frontier.empty:\n",
    "        current_node: Node[T] = frontier.pop()\n",
    "        current_state: T = current_node.state\n",
    "        # if we found the goal, we're done\n",
    "        if goal_test(current_state):\n",
    "            return current_node\n",
    "        # check where we can go next and haven't explored\n",
    "        for child in successors(current_state):\n",
    "            new_cost: float = current_node.cost + 1  # 1 assumes a grid, need a cost function for more sophisticated apps\n",
    "\n",
    "            if child not in explored or explored[child] > new_cost:\n",
    "                explored[child] = new_cost\n",
    "                frontier.push(Node(child, current_node, new_cost, heuristic(child)))\n",
    "    return None  # went through everything and never found goal"
   ]
  },
  {
   "cell_type": "markdown",
   "metadata": {},
   "source": [
    "### Testing A*"
   ]
  },
  {
   "cell_type": "code",
   "execution_count": 57,
   "metadata": {},
   "outputs": [
    {
     "name": "stdout",
     "output_type": "stream",
     "text": [
      "S     X   \n",
      "*         \n",
      "*     XX  \n",
      "*X XX    X\n",
      "**X   X XX\n",
      " ******** \n",
      "   X   X*X\n",
      "      X **\n",
      "  X      *\n",
      "    X   XG\n",
      "\n"
     ]
    }
   ],
   "source": [
    "distance: Callable[[MazeLocation], float] = manhattan_distance(m.goal)\n",
    "solution3: Optional[Node[MazeLocation]] =  astar(m.start, m.goal_test, m.sucessors, distance)\n",
    "\n",
    "if solution3 is None:\n",
    "    print('No solution found using A*!')\n",
    "else:\n",
    "    path3: List[MazeLocation] =  node_to_path(solution3)\n",
    "    m.mark(path3)\n",
    "    print(m)"
   ]
  },
  {
   "cell_type": "markdown",
   "metadata": {},
   "source": [
    "## 2.3. Missionaries and Canibals problem"
   ]
  },
  {
   "cell_type": "code",
   "execution_count": 58,
   "metadata": {},
   "outputs": [],
   "source": [
    "from __future__ import annotations\n",
    "from typing import List, Optional"
   ]
  },
  {
   "cell_type": "code",
   "execution_count": 59,
   "metadata": {},
   "outputs": [],
   "source": [
    "MAX_NUM: int = 3"
   ]
  },
  {
   "cell_type": "code",
   "execution_count": 60,
   "metadata": {},
   "outputs": [],
   "source": [
    "class MCState:\n",
    "    def __init__(self, missionaries: int, cannibals: int, boat: bool) -> None:\n",
    "        self.wm: int = missionaries # west bank missionaries\n",
    "        self.wc: int = cannibals # west bank cannibals\n",
    "        self.em: int = MAX_NUM - self.wm  # east bank missionaries\n",
    "        self.ec: int = MAX_NUM - self.wc  # east bank cannibals\n",
    "        self.boat: bool = boat\n",
    "\n",
    "    def __str__(self) -> str:\n",
    "        return (\"On the west bank there are {} missionaries and {} cannibals.\\n\" \n",
    "                \"On the east bank there are {} missionaries and {} cannibals.\\n\"\n",
    "                \"The boat is on the {} bank.\")\\\n",
    "            .format(self.wm, self.wc, self.em, self.ec, (\"west\" if self.boat else \"east\"))\n",
    "\n",
    "    def goal_test(self) -> bool:\n",
    "        return self.is_legal and self.em == MAX_NUM and self.ec == MAX_NUM\n",
    "\n",
    "    @property\n",
    "    def is_legal(self) -> bool:\n",
    "        if self.wm < self.wc and self.wm > 0:\n",
    "            return False\n",
    "        if self.em < self.ec and self.em > 0:\n",
    "            return False\n",
    "        return True\n",
    "\n",
    "    def successors(self) -> List[MCState]:\n",
    "        sucs: List[MCState] = []\n",
    "        if self.boat: # boat on west bank\n",
    "            if self.wm > 1:\n",
    "                sucs.append(MCState(self.wm - 2, self.wc, not self.boat))\n",
    "            if self.wm > 0:\n",
    "                sucs.append(MCState(self.wm - 1, self.wc, not self.boat))\n",
    "            if self.wc > 1:\n",
    "                sucs.append(MCState(self.wm, self.wc - 2, not self.boat))\n",
    "            if self.wc > 0:\n",
    "                sucs.append(MCState(self.wm, self.wc - 1, not self.boat))\n",
    "            if (self.wc > 0) and (self.wm > 0):\n",
    "                sucs.append(MCState(self.wm - 1, self.wc - 1, not self.boat))\n",
    "        else: # boat on east bank\n",
    "            if self.em > 1:\n",
    "                sucs.append(MCState(self.wm + 2, self.wc, not self.boat))\n",
    "            if self.em > 0:\n",
    "                sucs.append(MCState(self.wm + 1, self.wc, not self.boat))\n",
    "            if self.ec > 1:\n",
    "                sucs.append(MCState(self.wm, self.wc + 2, not self.boat))\n",
    "            if self.ec > 0:\n",
    "                sucs.append(MCState(self.wm, self.wc + 1, not self.boat))\n",
    "            if (self.ec > 0) and (self.em > 0):\n",
    "                sucs.append(MCState(self.wm + 1, self.wc + 1, not self.boat))\n",
    "        return [x for x in sucs if x.is_legal]"
   ]
  },
  {
   "cell_type": "code",
   "execution_count": 61,
   "metadata": {},
   "outputs": [],
   "source": [
    "def display_solution(path: List[MCState]):\n",
    "    if len(path) == 0: # sanity check\n",
    "        return\n",
    "    old_state: MCState = path[0]\n",
    "    print(old_state)\n",
    "    for current_state in path[1:]:\n",
    "        if current_state.boat:\n",
    "            print(\"{} missionaries and {} cannibals moved from the east bank to the west bank.\\n\"\n",
    "                  .format(old_state.em - current_state.em, old_state.ec - current_state.ec))\n",
    "        else:\n",
    "            print(\"{} missionaries and {} cannibals moved from the west bank to the east bank.\\n\"\n",
    "                  .format(old_state.wm - current_state.wm, old_state.wc - current_state.wc))\n",
    "        print(current_state)\n",
    "        old_state = current_state"
   ]
  },
  {
   "cell_type": "code",
   "execution_count": 62,
   "metadata": {},
   "outputs": [
    {
     "name": "stdout",
     "output_type": "stream",
     "text": [
      "On the west bank there are 3 missionaries and 3 cannibals.\n",
      "On the east bank there are 0 missionaries and 0 cannibals.\n",
      "The boat is on the west bank.\n",
      "0 missionaries and 2 cannibals moved from the west bank to the east bank.\n",
      "\n",
      "On the west bank there are 3 missionaries and 1 cannibals.\n",
      "On the east bank there are 0 missionaries and 2 cannibals.\n",
      "The boat is on the east bank.\n",
      "0 missionaries and 1 cannibals moved from the east bank to the west bank.\n",
      "\n",
      "On the west bank there are 3 missionaries and 2 cannibals.\n",
      "On the east bank there are 0 missionaries and 1 cannibals.\n",
      "The boat is on the west bank.\n",
      "0 missionaries and 2 cannibals moved from the west bank to the east bank.\n",
      "\n",
      "On the west bank there are 3 missionaries and 0 cannibals.\n",
      "On the east bank there are 0 missionaries and 3 cannibals.\n",
      "The boat is on the east bank.\n",
      "0 missionaries and 1 cannibals moved from the east bank to the west bank.\n",
      "\n",
      "On the west bank there are 3 missionaries and 1 cannibals.\n",
      "On the east bank there are 0 missionaries and 2 cannibals.\n",
      "The boat is on the west bank.\n",
      "2 missionaries and 0 cannibals moved from the west bank to the east bank.\n",
      "\n",
      "On the west bank there are 1 missionaries and 1 cannibals.\n",
      "On the east bank there are 2 missionaries and 2 cannibals.\n",
      "The boat is on the east bank.\n",
      "1 missionaries and 1 cannibals moved from the east bank to the west bank.\n",
      "\n",
      "On the west bank there are 2 missionaries and 2 cannibals.\n",
      "On the east bank there are 1 missionaries and 1 cannibals.\n",
      "The boat is on the west bank.\n",
      "2 missionaries and 0 cannibals moved from the west bank to the east bank.\n",
      "\n",
      "On the west bank there are 0 missionaries and 2 cannibals.\n",
      "On the east bank there are 3 missionaries and 1 cannibals.\n",
      "The boat is on the east bank.\n",
      "0 missionaries and 1 cannibals moved from the east bank to the west bank.\n",
      "\n",
      "On the west bank there are 0 missionaries and 3 cannibals.\n",
      "On the east bank there are 3 missionaries and 0 cannibals.\n",
      "The boat is on the west bank.\n",
      "0 missionaries and 2 cannibals moved from the west bank to the east bank.\n",
      "\n",
      "On the west bank there are 0 missionaries and 1 cannibals.\n",
      "On the east bank there are 3 missionaries and 2 cannibals.\n",
      "The boat is on the east bank.\n",
      "1 missionaries and 0 cannibals moved from the east bank to the west bank.\n",
      "\n",
      "On the west bank there are 1 missionaries and 1 cannibals.\n",
      "On the east bank there are 2 missionaries and 2 cannibals.\n",
      "The boat is on the west bank.\n",
      "1 missionaries and 1 cannibals moved from the west bank to the east bank.\n",
      "\n",
      "On the west bank there are 0 missionaries and 0 cannibals.\n",
      "On the east bank there are 3 missionaries and 3 cannibals.\n",
      "The boat is on the east bank.\n"
     ]
    }
   ],
   "source": [
    "start: MCState = MCState(MAX_NUM, MAX_NUM, True)\n",
    "solution: Optional[Node[MCState]] = bfs(start, MCState.goal_test, MCState.successors)\n",
    "if solution is None:\n",
    "    print(\"No solution found!\")\n",
    "else:\n",
    "    path: List[MCState] = node_to_path(solution)\n",
    "    display_solution(path)"
   ]
  },
  {
   "cell_type": "markdown",
   "metadata": {},
   "source": [
    "## 3. Constraint-Satisfaction Problems"
   ]
  },
  {
   "cell_type": "markdown",
   "metadata": {},
   "source": [
    "### 3.1. Building a CSP framework"
   ]
  },
  {
   "cell_type": "code",
   "execution_count": 63,
   "metadata": {},
   "outputs": [],
   "source": [
    "from typing import Generic, TypeVar, Dict, List, Optional\n",
    "from abc import ABC, abstractmethod\n",
    "\n",
    "V = TypeVar('V') # variable type\n",
    "D = TypeVar('D') # domain type\n",
    "\n",
    "\n",
    "# Base class for all constraints\n",
    "class Constraint(Generic[V, D], ABC):\n",
    "    # The variables that the constraint is between\n",
    "    def __init__(self, variables: List[V]) -> None:\n",
    "        self.variables = variables\n",
    "\n",
    "    # Must be overridden by subclasses\n",
    "    @abstractmethod\n",
    "    def satisfied(self, assignment: Dict[V, D]) -> bool:\n",
    "        ..."
   ]
  },
  {
   "cell_type": "code",
   "execution_count": 64,
   "metadata": {},
   "outputs": [],
   "source": [
    "class CSP(Generic[V, D]):\n",
    "    def __init__(self, variables: List[V], domains: Dict[V, List[D]]) -> None:\n",
    "        self.variables: List[V] = variables # variables to be constrained\n",
    "        self.domains: Dict[V, List[D]] = domains # domain of each variable\n",
    "        self.constraints: Dict[V, List[Constraint[V, D]]] = {}\n",
    "        for variable in self.variables:\n",
    "            self.constraints[variable] = []\n",
    "            if variable not in self.domains:\n",
    "                raise LookupError(\"Every variable should have a domain assigned to it.\")\n",
    "\n",
    "    def add_constraint(self, constraint: Constraint[V, D]) -> None:\n",
    "        for variable in constraint.variables:\n",
    "            if variable not in self.variables:\n",
    "                raise LookupError(\"Variable in constraint not in CSP\")\n",
    "            else:\n",
    "                self.constraints[variable].append(constraint)\n",
    "    \n",
    "    # Check if the value assignment is consistent by checking all constraints\n",
    "    # for the given variable against it\n",
    "    def consistent(self, variable: V, assignment: Dict[V, D]) -> bool:\n",
    "        for constraint in self.constraints[variable]:\n",
    "            if not constraint.satisfied(assignment):\n",
    "                return False\n",
    "        return True\n",
    "\n",
    "    def backtracking_search(self, assignment: Dict[V, D] = {}) -> Optional[Dict[V, D]]:\n",
    "        # assignment is complete if every variable is assigned (our base case)\n",
    "        if len(assignment) == len(self.variables):\n",
    "            return assignment\n",
    "\n",
    "        # get all variables in the CSP but not in the assignment\n",
    "        unassigned: List[V] = [v for v in self.variables if v not in assignment]\n",
    "\n",
    "        # get the every possible domain value of the first unassigned variable\n",
    "        first: V = unassigned[0]\n",
    "        for value in self.domains[first]:\n",
    "            local_assignment = assignment.copy()\n",
    "            local_assignment[first] = value\n",
    "            # if we're still consistent, we recurse (continue)\n",
    "            if self.consistent(first, local_assignment):\n",
    "                result: Optional[Dict[V, D]] = self.backtracking_search(local_assignment)\n",
    "                # if we didn't find the result, we will end up backtracking\n",
    "                if result is not None:\n",
    "                    return result\n",
    "        return None"
   ]
  },
  {
   "cell_type": "code",
   "execution_count": 65,
   "metadata": {},
   "outputs": [],
   "source": [
    "from typing import Dict, List, Optional\n",
    "\n",
    "\n",
    "class MapColoringConstraint(Constraint[str, str]):\n",
    "    def __init__(self, place1: str, place2: str) -> None:\n",
    "        super().__init__([place1, place2])\n",
    "        self.place1: str = place1\n",
    "        self.place2: str = place2\n",
    "\n",
    "    def satisfied(self, assignment: Dict[str, str]) -> bool:\n",
    "        # If either place is not in the assignment then it is not\n",
    "        # yet possible for their colors to be conflicting\n",
    "        if self.place1 not in assignment or self.place2 not in assignment:\n",
    "            return True\n",
    "        # check the color assigned to place1 is not the same as the\n",
    "        # color assigned to place2\n",
    "        return assignment[self.place1] != assignment[self.place2]"
   ]
  },
  {
   "cell_type": "code",
   "execution_count": 66,
   "metadata": {},
   "outputs": [
    {
     "name": "stdout",
     "output_type": "stream",
     "text": [
      "{'Western Australia': 'red', 'Northern Territory': 'green', 'South Australia': 'blue', 'Queensland': 'red', 'New South Wales': 'green', 'Victoria': 'red', 'Tasmania': 'green'}\n"
     ]
    }
   ],
   "source": [
    "variables: List[str] = [\"Western Australia\", \"Northern Territory\", \"South Australia\",\n",
    "                        \"Queensland\", \"New South Wales\", \"Victoria\", \"Tasmania\"]\n",
    "domains: Dict[str, List[str]] = {}\n",
    "for variable in variables:\n",
    "    domains[variable] = [\"red\", \"green\", \"blue\"]\n",
    "csp: CSP[str, str] = CSP(variables, domains)\n",
    "csp.add_constraint(MapColoringConstraint(\"Western Australia\", \"Northern Territory\"))\n",
    "csp.add_constraint(MapColoringConstraint(\"Western Australia\", \"South Australia\"))\n",
    "csp.add_constraint(MapColoringConstraint(\"South Australia\", \"Northern Territory\"))\n",
    "csp.add_constraint(MapColoringConstraint(\"Queensland\", \"Northern Territory\"))\n",
    "csp.add_constraint(MapColoringConstraint(\"Queensland\", \"South Australia\"))\n",
    "csp.add_constraint(MapColoringConstraint(\"Queensland\", \"New South Wales\"))\n",
    "csp.add_constraint(MapColoringConstraint(\"New South Wales\", \"South Australia\"))\n",
    "csp.add_constraint(MapColoringConstraint(\"Victoria\", \"South Australia\"))\n",
    "csp.add_constraint(MapColoringConstraint(\"Victoria\", \"New South Wales\"))\n",
    "csp.add_constraint(MapColoringConstraint(\"Victoria\", \"Tasmania\"))\n",
    "solution: Optional[Dict[str, str]] = csp.backtracking_search()\n",
    "if solution is None:\n",
    "    print(\"No solution found!\")\n",
    "else:\n",
    "    print(solution)"
   ]
  },
  {
   "cell_type": "markdown",
   "metadata": {},
   "source": [
    "### 3.3. The eight Queens Problem"
   ]
  },
  {
   "cell_type": "code",
   "execution_count": 67,
   "metadata": {},
   "outputs": [],
   "source": [
    "columns: List[int] = [1,2,3,4,5,6,7,8]\n",
    "rows: Dict[int, List[int]] = {}\n",
    "for column in columns:\n",
    "    rows[column] = [1,2,3,4,5,6,7,8]\n",
    "csp: CSP[int, int] = CSP(columns, rows)"
   ]
  },
  {
   "cell_type": "code",
   "execution_count": 68,
   "metadata": {},
   "outputs": [
    {
     "data": {
      "text/plain": [
       "[1, 2, 3, 4, 5, 6, 7, 8]"
      ]
     },
     "execution_count": 68,
     "metadata": {},
     "output_type": "execute_result"
    }
   ],
   "source": [
    "csp.variables"
   ]
  },
  {
   "cell_type": "code",
   "execution_count": 69,
   "metadata": {},
   "outputs": [
    {
     "data": {
      "text/plain": [
       "{1: [1, 2, 3, 4, 5, 6, 7, 8],\n",
       " 2: [1, 2, 3, 4, 5, 6, 7, 8],\n",
       " 3: [1, 2, 3, 4, 5, 6, 7, 8],\n",
       " 4: [1, 2, 3, 4, 5, 6, 7, 8],\n",
       " 5: [1, 2, 3, 4, 5, 6, 7, 8],\n",
       " 6: [1, 2, 3, 4, 5, 6, 7, 8],\n",
       " 7: [1, 2, 3, 4, 5, 6, 7, 8],\n",
       " 8: [1, 2, 3, 4, 5, 6, 7, 8]}"
      ]
     },
     "execution_count": 69,
     "metadata": {},
     "output_type": "execute_result"
    }
   ],
   "source": [
    "csp.domains"
   ]
  },
  {
   "cell_type": "code",
   "execution_count": 70,
   "metadata": {},
   "outputs": [
    {
     "data": {
      "text/plain": [
       "{1: [], 2: [], 3: [], 4: [], 5: [], 6: [], 7: [], 8: []}"
      ]
     },
     "execution_count": 70,
     "metadata": {},
     "output_type": "execute_result"
    }
   ],
   "source": [
    "csp.constraints"
   ]
  },
  {
   "cell_type": "code",
   "execution_count": 71,
   "metadata": {},
   "outputs": [],
   "source": [
    "from typing import Dict, List, Optional\n",
    "\n",
    "class QueensConstraint(Constraint[int, int]):\n",
    "    def __init__(self, columns: List[int]) -> None:\n",
    "        super().__init__(columns)\n",
    "        self.columns: List[int] = columns\n",
    "\n",
    "    def satisfied(self, assignment: Dict[int, int]) -> bool:\n",
    "        # q1c = queen 1 column, q1r = queen 1 row\n",
    "        for q1c, q1r in assignment.items():\n",
    "            # q2c = queen 2 column\n",
    "            for q2c in range(q1c + 1, len(self.columns) + 1):\n",
    "                if q2c in assignment:\n",
    "                    q2r: int = assignment[q2c] # q2r = queen 2 row\n",
    "                    if q1r == q2r: # same row?\n",
    "                        return False\n",
    "                    if abs(q1r - q2r) == abs(q1c - q2c): # same diagonal?\n",
    "                        return False\n",
    "        return True # no conflict"
   ]
  },
  {
   "cell_type": "code",
   "execution_count": 72,
   "metadata": {},
   "outputs": [
    {
     "data": {
      "text/plain": [
       "[1, 2, 3, 4, 5, 6, 7, 8]"
      ]
     },
     "execution_count": 72,
     "metadata": {},
     "output_type": "execute_result"
    }
   ],
   "source": [
    "QueensConstraint(columns).columns"
   ]
  },
  {
   "cell_type": "code",
   "execution_count": 73,
   "metadata": {},
   "outputs": [
    {
     "name": "stdout",
     "output_type": "stream",
     "text": [
      "{1: 1, 2: 5, 3: 8, 4: 6, 5: 3, 6: 7, 7: 2, 8: 4}\n"
     ]
    }
   ],
   "source": [
    "csp.add_constraint(QueensConstraint(columns))\n",
    "solution: Optional[Dict[int, int]] =  csp.backtracking_search()\n",
    "if solution is None:\n",
    "    print('No solution found!')\n",
    "else:\n",
    "    print(solution)"
   ]
  },
  {
   "cell_type": "markdown",
   "metadata": {},
   "source": [
    "### 3.4. Word search\n"
   ]
  },
  {
   "cell_type": "code",
   "execution_count": 74,
   "metadata": {},
   "outputs": [],
   "source": [
    "from random import choice\n",
    "from string import ascii_uppercase"
   ]
  },
  {
   "cell_type": "code",
   "execution_count": 75,
   "metadata": {},
   "outputs": [],
   "source": [
    "Grid = List[List[str]]  # type alias for grids\n",
    "\n",
    "\n",
    "class GridLocation(NamedTuple):\n",
    "    row: int\n",
    "    column: int\n",
    "\n",
    "\n",
    "def generate_grid(rows: int, columns: int) -> Grid:\n",
    "    # initialize grid with random letters\n",
    "    return [[choice(ascii_uppercase) for c in range(columns)] for r in range(rows)]\n",
    "\n",
    "\n",
    "def display_grid(grid: Grid) -> None:\n",
    "    for row in grid:\n",
    "        print(\"\".join(row))\n",
    "\n",
    "\n",
    "def generate_domain(word: str, grid: Grid) -> List[List[GridLocation]]:\n",
    "    domain: List[List[GridLocation]] = []\n",
    "    height: int = len(grid)\n",
    "    width: int = len(grid[0])\n",
    "    length: int = len(word)\n",
    "    for row in range(height):\n",
    "        for col in range(width):\n",
    "            columns: range = range(col, col + length)\n",
    "            rows: range = range(row, row + length)\n",
    "            if col + length <= width:\n",
    "                # left to right\n",
    "                domain.append([GridLocation(row, c) for c in columns])\n",
    "                # diagonal towards bottom right\n",
    "                if row + length <= height:\n",
    "                    domain.append([GridLocation(r, col + (r - row)) for r in rows])\n",
    "            if row + length <= height:\n",
    "                # top to bottom\n",
    "                domain.append([GridLocation(r, col) for r in rows])\n",
    "                # diagonal towards bottom left\n",
    "                if col - length >= 0:\n",
    "                    domain.append([GridLocation(r, col - (r - row)) for r in rows])\n",
    "    return domain"
   ]
  },
  {
   "cell_type": "code",
   "execution_count": 76,
   "metadata": {},
   "outputs": [
    {
     "data": {
      "text/plain": [
       "[['M', 'D', 'A', 'L', 'N', 'V', 'A', 'P', 'S'],\n",
       " ['F', 'M', 'E', 'X', 'A', 'Y', 'I', 'R', 'B'],\n",
       " ['A', 'P', 'H', 'P', 'I', 'E', 'T', 'P', 'S'],\n",
       " ['D', 'V', 'K', 'X', 'H', 'J', 'V', 'O', 'V'],\n",
       " ['H', 'Z', 'T', 'V', 'W', 'T', 'F', 'J', 'G'],\n",
       " ['H', 'M', 'Z', 'C', 'A', 'V', 'O', 'L', 'Q'],\n",
       " ['B', 'Z', 'N', 'Z', 'D', 'Y', 'X', 'M', 'N'],\n",
       " ['T', 'H', 'N', 'W', 'H', 'P', 'G', 'Q', 'J'],\n",
       " ['P', 'R', 'W', 'J', 'K', 'O', 'U', 'N', 'G']]"
      ]
     },
     "execution_count": 76,
     "metadata": {},
     "output_type": "execute_result"
    }
   ],
   "source": [
    "grid: Grid = generate_grid(9, 9)\n",
    "grid"
   ]
  },
  {
   "cell_type": "code",
   "execution_count": 77,
   "metadata": {},
   "outputs": [
    {
     "name": "stdout",
     "output_type": "stream",
     "text": [
      "MDALNVAPS\n",
      "FMEXAYIRB\n",
      "APHPIETPS\n",
      "DVKXHJVOV\n",
      "HZTVWTFJG\n",
      "HMZCAVOLQ\n",
      "BZNZDYXMN\n",
      "THNWHPGQJ\n",
      "PRWJKOUNG\n"
     ]
    }
   ],
   "source": [
    "display_grid(grid)"
   ]
  },
  {
   "cell_type": "code",
   "execution_count": 78,
   "metadata": {},
   "outputs": [],
   "source": [
    "class WordSearchConstraint(Constraint[str, List[GridLocation]]):\n",
    "    def __init__(self, words: List[str]) -> None:\n",
    "        super().__init__(words)\n",
    "        self.words: List[str] = words\n",
    "\n",
    "    def satisfied(self, assignment: Dict[str, List[GridLocation]]) -> bool:\n",
    "        # if there are any duplicates grid locations then there is an overlap\n",
    "        all_locations = [locs for values in assignment.values() for locs in values]\n",
    "        return len(set(all_locations)) == len(all_locations)"
   ]
  },
  {
   "cell_type": "code",
   "execution_count": 79,
   "metadata": {},
   "outputs": [
    {
     "data": {
      "text/plain": [
       "typing.List[typing.List[str]]"
      ]
     },
     "execution_count": 79,
     "metadata": {},
     "output_type": "execute_result"
    }
   ],
   "source": [
    "Grid"
   ]
  },
  {
   "cell_type": "code",
   "execution_count": 80,
   "metadata": {},
   "outputs": [
    {
     "name": "stdout",
     "output_type": "stream",
     "text": [
      "MATTHEWJY\n",
      "SARAHYFOR\n",
      "IGVPBLPEA\n",
      "LLYTGLNEM\n",
      "GQRLMAULV\n",
      "EYBLGSMGY\n",
      "RINYGDYNJ\n",
      "ABQPJEFVS\n",
      "KAOZYBUZY\n"
     ]
    }
   ],
   "source": [
    "grid: Grid = generate_grid(9, 9)\n",
    "words: List[str] = [\"MATTHEW\", \"JOE\", \"MARY\", \"SARAH\", \"SALLY\"]\n",
    "locations: Dict[str, List[List[GridLocation]]] = {}\n",
    "for word in words:\n",
    "    locations[word] = generate_domain(word, grid)\n",
    "csp: CSP[str, List[GridLocation]] = CSP(words, locations)\n",
    "csp.add_constraint(WordSearchConstraint(words))\n",
    "solution: Optional[Dict[str, List[GridLocation]]] = csp.backtracking_search()\n",
    "if solution is None:\n",
    "    print(\"No solution found!\")\n",
    "else:\n",
    "    for word, grid_locations in solution.items():\n",
    "        # random reverse half the time\n",
    "        if choice([True, False]):\n",
    "            grid_locations.reverse()\n",
    "        for index, letter in enumerate(word):\n",
    "            (row, col) = (grid_locations[index].row, grid_locations[index].column)\n",
    "            grid[row][col] = letter\n",
    "    display_grid(grid)\n"
   ]
  },
  {
   "cell_type": "markdown",
   "metadata": {},
   "source": [
    "### 3.5. SEND+MORE=MONEY"
   ]
  },
  {
   "cell_type": "code",
   "execution_count": 81,
   "metadata": {},
   "outputs": [],
   "source": [
    "class SendMoreMoneyConstraint(Constraint[str, int]):\n",
    "    def __init__(self, letters: List[str]) -> None:\n",
    "        super().__init__(letters)\n",
    "        self.letters: List[str] = letters\n",
    "\n",
    "    def satisfied(self, assignment: Dict[str, int]) -> bool:\n",
    "        # if there are duplicate values then it's not a solution\n",
    "        if len(set(assignment.values())) < len(assignment):\n",
    "            return False\n",
    "\n",
    "        # if all variables have been assigned, check if it adds correctly\n",
    "        if len(assignment) == len(self.letters):\n",
    "            s: int = assignment[\"S\"]\n",
    "            e: int = assignment[\"E\"]\n",
    "            n: int = assignment[\"N\"]\n",
    "            d: int = assignment[\"D\"]\n",
    "            m: int = assignment[\"M\"]\n",
    "            o: int = assignment[\"O\"]\n",
    "            r: int = assignment[\"R\"]\n",
    "            y: int = assignment[\"Y\"]\n",
    "            send: int = s * 1000 + e * 100 + n * 10 + d\n",
    "            more: int = m * 1000 + o * 100 + r * 10 + e\n",
    "            money: int = m * 10000 + o * 1000 + n * 100 + e * 10 + y\n",
    "            return send + more == money\n",
    "        return True # no conflict"
   ]
  },
  {
   "cell_type": "code",
   "execution_count": 82,
   "metadata": {},
   "outputs": [
    {
     "name": "stdout",
     "output_type": "stream",
     "text": [
      "{'S': 9, 'E': 5, 'N': 6, 'D': 7, 'M': 1, 'O': 0, 'R': 8, 'Y': 2}\n"
     ]
    }
   ],
   "source": [
    "letters: List[str] = [\"S\", \"E\", \"N\", \"D\", \"M\", \"O\", \"R\", \"Y\"]\n",
    "possible_digits: Dict[str, List[int]] = {}\n",
    "for letter in letters:\n",
    "    possible_digits[letter] = [0, 1, 2, 3, 4, 5, 6, 7, 8, 9]\n",
    "possible_digits[\"M\"] = [1]  # so we don't get answers starting with a 0\n",
    "csp: CSP[str, int] = CSP(letters, possible_digits)\n",
    "csp.add_constraint(SendMoreMoneyConstraint(letters))\n",
    "solution: Optional[Dict[str, int]] = csp.backtracking_search()\n",
    "if solution is None:\n",
    "    print(\"No solution found!\")\n",
    "else:\n",
    "    print(solution)"
   ]
  },
  {
   "cell_type": "markdown",
   "metadata": {},
   "source": [
    "## 4. Graph Problems"
   ]
  },
  {
   "cell_type": "code",
   "execution_count": 83,
   "metadata": {},
   "outputs": [],
   "source": [
    "from dataclasses import dataclass\n",
    "\n",
    "@dataclass\n",
    "class Edge:\n",
    "    u: int # the \"from\" vertex\n",
    "    v: int # the \"to\" vertex\n",
    "\n",
    "    def reversed(self) -> Edge:\n",
    "        return Edge(self.v, self.u)\n",
    "\n",
    "    def __str__(self) -> str:\n",
    "        return f\"{self.u} -> {self.v}\""
   ]
  },
  {
   "cell_type": "code",
   "execution_count": 84,
   "metadata": {},
   "outputs": [],
   "source": [
    "e = Edge(2, 4)"
   ]
  },
  {
   "cell_type": "code",
   "execution_count": 87,
   "metadata": {},
   "outputs": [
    {
     "data": {
      "text/plain": [
       "Edge(u=4, v=2)"
      ]
     },
     "execution_count": 87,
     "metadata": {},
     "output_type": "execute_result"
    }
   ],
   "source": [
    "e.reversed()"
   ]
  },
  {
   "cell_type": "code",
   "execution_count": 91,
   "metadata": {},
   "outputs": [
    {
     "data": {
      "text/plain": [
       "'2 -> 4'"
      ]
     },
     "execution_count": 91,
     "metadata": {},
     "output_type": "execute_result"
    }
   ],
   "source": [
    "e.__str__()"
   ]
  },
  {
   "cell_type": "code",
   "execution_count": 92,
   "metadata": {},
   "outputs": [],
   "source": [
    "V = TypeVar('V') # type of the vertices in the graph\n",
    "\n",
    "\n",
    "class Graph(Generic[V]):\n",
    "    def __init__(self, vertices: List[V] = []) -> None:\n",
    "        self._vertices: List[V] = vertices\n",
    "        self._edges: List[List[Edge]] = [[] for _ in vertices]\n",
    "\n",
    "    @property\n",
    "    def vertex_count(self) -> int:\n",
    "        return len(self._vertices) # Number of vertices\n",
    "\n",
    "    @property\n",
    "    def edge_count(self) -> int:\n",
    "        return sum(map(len, self._edges)) # Number of edges\n",
    "\n",
    "    # Add a vertex to the graph and return its index\n",
    "    def add_vertex(self, vertex: V) -> int:\n",
    "        self._vertices.append(vertex)\n",
    "        self._edges.append([]) # add empty list for containing edges\n",
    "        return self.vertex_count - 1 # return index of added vertex\n",
    "\n",
    "    # This is an undirected graph,\n",
    "    # so we always add edges in both directions\n",
    "    def add_edge(self, edge: Edge) -> None:\n",
    "        self._edges[edge.u].append(edge)\n",
    "        self._edges[edge.v].append(edge.reversed())\n",
    "\n",
    "    # Add an edge using vertex indices (convenience method)\n",
    "    def add_edge_by_indices(self, u: int, v: int) -> None:\n",
    "        edge: Edge = Edge(u, v)\n",
    "        self.add_edge(edge)\n",
    "\n",
    "    # Add an edge by looking up vertex indices (convenience method)\n",
    "    def add_edge_by_vertices(self, first: V, second: V) -> None:\n",
    "        u: int = self._vertices.index(first)\n",
    "        v: int = self._vertices.index(second)\n",
    "        self.add_edge_by_indices(u, v)\n",
    "\n",
    "    # Find the vertex at a specific index\n",
    "    def vertex_at(self, index: int) -> V:\n",
    "        return self._vertices[index]\n",
    "\n",
    "    # Find the index of a vertex in the graph\n",
    "    def index_of(self, vertex: V) -> int:\n",
    "        return self._vertices.index(vertex)\n",
    "\n",
    "    # Find the vertices that a vertex at some index is connected to\n",
    "    def neighbors_for_index(self, index: int) -> List[V]:\n",
    "        return list(map(self.vertex_at, [e.v for e in self._edges[index]]))\n",
    "\n",
    "    # Lookup a vertice's index and find its neighbors (convenience method)\n",
    "    def neighbors_for_vertex(self, vertex: V) -> List[V]:\n",
    "        return self.neighbors_for_index(self.index_of(vertex))\n",
    "\n",
    "    # Return all of the edges associated with a vertex at some index\n",
    "    def edges_for_index(self, index: int) -> List[Edge]:\n",
    "        return self._edges[index]\n",
    "\n",
    "    # Lookup the index of a vertex and return its edges (convenience method)\n",
    "    def edges_for_vertex(self, vertex: V) -> List[Edge]:\n",
    "        return self.edges_for_index(self.index_of(vertex))\n",
    "\n",
    "    # Make it easy to pretty-print a Graph\n",
    "    def __str__(self) -> str:\n",
    "        desc: str = \"\"\n",
    "        for i in range(self.vertex_count):\n",
    "            desc += f\"{self.vertex_at(i)} -> {self.neighbors_for_index(i)}\\n\"\n",
    "        return desc"
   ]
  },
  {
   "cell_type": "code",
   "execution_count": null,
   "metadata": {},
   "outputs": [],
   "source": []
  }
 ],
 "metadata": {
  "kernelspec": {
   "display_name": "jeitto",
   "language": "python",
   "name": "jeitto"
  },
  "language_info": {
   "codemirror_mode": {
    "name": "ipython",
    "version": 3
   },
   "file_extension": ".py",
   "mimetype": "text/x-python",
   "name": "python",
   "nbconvert_exporter": "python",
   "pygments_lexer": "ipython3",
   "version": "3.7.5"
  }
 },
 "nbformat": 4,
 "nbformat_minor": 4
}
