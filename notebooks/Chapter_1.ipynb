{
 "cells": [
  {
   "cell_type": "code",
   "execution_count": 1,
   "metadata": {},
   "outputs": [],
   "source": [
    "### 1.1.6. Fibonacci with a generator"
   ]
  },
  {
   "cell_type": "code",
   "execution_count": 9,
   "metadata": {},
   "outputs": [],
   "source": [
    "from typing import Generator\n",
    "def fib6(n: int) -> Generator[int, None, None]:\n",
    "    yield 0\n",
    "    if n > 0:\n",
    "        last: int = 0\n",
    "        next: int = 1\n",
    "        for _ in range(1, n):\n",
    "            last, next = next, last + next\n",
    "            yield next                "
   ]
  },
  {
   "cell_type": "code",
   "execution_count": 13,
   "metadata": {},
   "outputs": [
    {
     "name": "stdout",
     "output_type": "stream",
     "text": [
      "CPU times: user 4 µs, sys: 1e+03 ns, total: 5 µs\n",
      "Wall time: 8.82 µs\n",
      "0\n",
      "1\n",
      "2\n",
      "3\n",
      "5\n",
      "8\n",
      "13\n",
      "21\n",
      "34\n",
      "55\n",
      "89\n",
      "144\n",
      "233\n",
      "377\n",
      "610\n",
      "987\n",
      "1597\n",
      "2584\n",
      "4181\n",
      "6765\n",
      "10946\n",
      "17711\n",
      "28657\n",
      "46368\n",
      "75025\n",
      "121393\n",
      "196418\n",
      "317811\n",
      "514229\n",
      "832040\n",
      "1346269\n",
      "2178309\n",
      "3524578\n",
      "5702887\n",
      "9227465\n",
      "14930352\n",
      "24157817\n",
      "39088169\n",
      "63245986\n",
      "102334155\n",
      "165580141\n",
      "267914296\n",
      "433494437\n",
      "701408733\n",
      "1134903170\n",
      "1836311903\n",
      "2971215073\n",
      "4807526976\n",
      "7778742049\n",
      "12586269025\n"
     ]
    }
   ],
   "source": [
    "%time\n",
    "for i in fib6(50):\n",
    "    print(i)"
   ]
  },
  {
   "cell_type": "markdown",
   "metadata": {},
   "source": [
    "### 1.2. Trivial compaction"
   ]
  },
  {
   "cell_type": "code",
   "execution_count": 16,
   "metadata": {},
   "outputs": [],
   "source": [
    "import sys"
   ]
  },
  {
   "cell_type": "code",
   "execution_count": 22,
   "metadata": {},
   "outputs": [],
   "source": [
    "x = 1100000"
   ]
  },
  {
   "cell_type": "code",
   "execution_count": 23,
   "metadata": {},
   "outputs": [
    {
     "data": {
      "text/plain": [
       "28"
      ]
     },
     "execution_count": 23,
     "metadata": {},
     "output_type": "execute_result"
    }
   ],
   "source": [
    "sys.getsizeof(x)"
   ]
  },
  {
   "cell_type": "code",
   "execution_count": 50,
   "metadata": {},
   "outputs": [],
   "source": [
    "class CompressedGene:\n",
    "    def __init__(self, gene:str) -> None:\n",
    "        self._compress(gene)\n",
    "    def _compress(self, gene:str) -> None:\n",
    "        self.bit_string: int = 1\n",
    "        for nucleotide in gene.upper():\n",
    "            self.bit_string <<= 2\n",
    "            if nucleotide == \"A\":\n",
    "                self.bit_string |= 0b00\n",
    "            elif nucleotide == \"C\":\n",
    "                self.bit_string |= 0b01\n",
    "            elif nucleotide == \"G\":\n",
    "                self.bit_string |= 0b10\n",
    "            elif nucleotide == \"T\":\n",
    "                self.bit_string |= 0b11\n",
    "            else:\n",
    "                raise ValueError(f'Invalid Nucleotide: {nucleotide}')\n",
    "    def decompress(self) -> str:\n",
    "        gene: str = ''\n",
    "        for i in range(self.bit_string.bit_length() - 1, 2):\n",
    "            bits: int = self.bit_string >> i & 0b11\n",
    "            if bits == 0b00:\n",
    "                gene += \"A\"\n",
    "            elif bits == 0b01:\n",
    "                gene += \"C\"\n",
    "            elif bits == 0b10:\n",
    "                gene += \"G\"\n",
    "            elif bits == 0b11:\n",
    "                gene += \"T\"\n",
    "            else:\n",
    "                raise ValueError(f'Invalid bits: {bits}')\n",
    "        return gene[::-1] \n",
    "            \n",
    "                 "
   ]
  },
  {
   "cell_type": "code",
   "execution_count": 52,
   "metadata": {},
   "outputs": [
    {
     "data": {
      "text/plain": [
       "2949"
      ]
     },
     "execution_count": 52,
     "metadata": {},
     "output_type": "execute_result"
    }
   ],
   "source": [
    "original_seq = \"ACTACGACGCAGATAGACAGTAGACGATA\" * 100\n",
    "sys.getsizeof(original_seq)"
   ]
  },
  {
   "cell_type": "code",
   "execution_count": 55,
   "metadata": {},
   "outputs": [
    {
     "data": {
      "text/plain": [
       "800"
      ]
     },
     "execution_count": 55,
     "metadata": {},
     "output_type": "execute_result"
    }
   ],
   "source": [
    "compressed: CompressedGene = CompressedGene(original_seq)\n",
    "sys.getsizeof(compressed.bit_string)"
   ]
  },
  {
   "cell_type": "code",
   "execution_count": 56,
   "metadata": {},
   "outputs": [
    {
     "data": {
      "text/plain": [
       "49"
      ]
     },
     "execution_count": 56,
     "metadata": {},
     "output_type": "execute_result"
    }
   ],
   "source": [
    "sys.getsizeof(compressed.decompress())"
   ]
  },
  {
   "cell_type": "code",
   "execution_count": 48,
   "metadata": {},
   "outputs": [
    {
     "data": {
      "text/plain": [
       "int"
      ]
     },
     "execution_count": 48,
     "metadata": {},
     "output_type": "execute_result"
    }
   ],
   "source": [
    "type(0b101)"
   ]
  },
  {
   "cell_type": "code",
   "execution_count": null,
   "metadata": {},
   "outputs": [],
   "source": []
  }
 ],
 "metadata": {
  "kernelspec": {
   "display_name": "jeitto",
   "language": "python",
   "name": "jeitto"
  },
  "language_info": {
   "codemirror_mode": {
    "name": "ipython",
    "version": 3
   },
   "file_extension": ".py",
   "mimetype": "text/x-python",
   "name": "python",
   "nbconvert_exporter": "python",
   "pygments_lexer": "ipython3",
   "version": "3.7.5"
  }
 },
 "nbformat": 4,
 "nbformat_minor": 4
}
