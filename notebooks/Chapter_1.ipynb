{
 "cells": [
  {
   "cell_type": "code",
   "execution_count": 13,
   "metadata": {},
   "outputs": [],
   "source": [
    "from IPython.core.interactiveshell import InteractiveShell\n",
    "\n",
    "InteractiveShell.ast_node_interactivity = \"all\""
   ]
  },
  {
   "cell_type": "code",
   "execution_count": 14,
   "metadata": {},
   "outputs": [],
   "source": [
    "### 1.1.6. Fibonacci with a generator"
   ]
  },
  {
   "cell_type": "code",
   "execution_count": 3,
   "metadata": {},
   "outputs": [],
   "source": [
    "from typing import Generator\n",
    "def fib6(n: int) -> Generator[int, None, None]:\n",
    "    yield 0\n",
    "    if n > 0:\n",
    "        last: int = 0\n",
    "        next: int = 1\n",
    "        for _ in range(1, n):\n",
    "            last, next = next, last + next\n",
    "            yield next                "
   ]
  },
  {
   "cell_type": "code",
   "execution_count": 4,
   "metadata": {},
   "outputs": [
    {
     "name": "stdout",
     "output_type": "stream",
     "text": [
      "CPU times: user 4 µs, sys: 0 ns, total: 4 µs\n",
      "Wall time: 9.3 µs\n",
      "0\n",
      "1\n",
      "2\n",
      "3\n",
      "5\n",
      "8\n",
      "13\n",
      "21\n",
      "34\n",
      "55\n",
      "89\n",
      "144\n",
      "233\n",
      "377\n",
      "610\n",
      "987\n",
      "1597\n",
      "2584\n",
      "4181\n",
      "6765\n",
      "10946\n",
      "17711\n",
      "28657\n",
      "46368\n",
      "75025\n",
      "121393\n",
      "196418\n",
      "317811\n",
      "514229\n",
      "832040\n",
      "1346269\n",
      "2178309\n",
      "3524578\n",
      "5702887\n",
      "9227465\n",
      "14930352\n",
      "24157817\n",
      "39088169\n",
      "63245986\n",
      "102334155\n",
      "165580141\n",
      "267914296\n",
      "433494437\n",
      "701408733\n",
      "1134903170\n",
      "1836311903\n",
      "2971215073\n",
      "4807526976\n",
      "7778742049\n",
      "12586269025\n"
     ]
    }
   ],
   "source": [
    "%time\n",
    "for i in fib6(50):\n",
    "    print(i)"
   ]
  },
  {
   "cell_type": "markdown",
   "metadata": {},
   "source": [
    "### 1.2. Trivial compaction"
   ]
  },
  {
   "cell_type": "code",
   "execution_count": 5,
   "metadata": {},
   "outputs": [],
   "source": [
    "import sys"
   ]
  },
  {
   "cell_type": "code",
   "execution_count": 6,
   "metadata": {},
   "outputs": [],
   "source": [
    "x = 1100000"
   ]
  },
  {
   "cell_type": "code",
   "execution_count": 7,
   "metadata": {},
   "outputs": [
    {
     "data": {
      "text/plain": [
       "28"
      ]
     },
     "execution_count": 7,
     "metadata": {},
     "output_type": "execute_result"
    }
   ],
   "source": [
    "sys.getsizeof(x)"
   ]
  },
  {
   "cell_type": "code",
   "execution_count": 8,
   "metadata": {},
   "outputs": [],
   "source": [
    "class CompressedGene:\n",
    "    def __init__(self, gene:str) -> None:\n",
    "        self._compress(gene)\n",
    "    def _compress(self, gene:str) -> None:\n",
    "        self.bit_string: int = 1\n",
    "        for nucleotide in gene.upper():\n",
    "            self.bit_string <<= 2\n",
    "            if nucleotide == \"A\":\n",
    "                self.bit_string |= 0b00\n",
    "            elif nucleotide == \"C\":\n",
    "                self.bit_string |= 0b01\n",
    "            elif nucleotide == \"G\":\n",
    "                self.bit_string |= 0b10\n",
    "            elif nucleotide == \"T\":\n",
    "                self.bit_string |= 0b11\n",
    "            else:\n",
    "                raise ValueError(f'Invalid Nucleotide: {nucleotide}')\n",
    "    def decompress(self) -> str:\n",
    "        gene: str = ''\n",
    "        for i in range(self.bit_string.bit_length() - 1, 2):\n",
    "            bits: int = self.bit_string >> i & 0b11\n",
    "            if bits == 0b00:\n",
    "                gene += \"A\"\n",
    "            elif bits == 0b01:\n",
    "                gene += \"C\"\n",
    "            elif bits == 0b10:\n",
    "                gene += \"G\"\n",
    "            elif bits == 0b11:\n",
    "                gene += \"T\"\n",
    "            else:\n",
    "                raise ValueError(f'Invalid bits: {bits}')\n",
    "        return gene[::-1] \n",
    "            \n",
    "                 "
   ]
  },
  {
   "cell_type": "code",
   "execution_count": 9,
   "metadata": {},
   "outputs": [
    {
     "data": {
      "text/plain": [
       "2949"
      ]
     },
     "execution_count": 9,
     "metadata": {},
     "output_type": "execute_result"
    }
   ],
   "source": [
    "original_seq = \"ACTACGACGCAGATAGACAGTAGACGATA\" * 100\n",
    "sys.getsizeof(original_seq)"
   ]
  },
  {
   "cell_type": "code",
   "execution_count": 10,
   "metadata": {},
   "outputs": [
    {
     "data": {
      "text/plain": [
       "800"
      ]
     },
     "execution_count": 10,
     "metadata": {},
     "output_type": "execute_result"
    }
   ],
   "source": [
    "compressed: CompressedGene = CompressedGene(original_seq)\n",
    "sys.getsizeof(compressed.bit_string)"
   ]
  },
  {
   "cell_type": "code",
   "execution_count": 11,
   "metadata": {},
   "outputs": [
    {
     "data": {
      "text/plain": [
       "49"
      ]
     },
     "execution_count": 11,
     "metadata": {},
     "output_type": "execute_result"
    }
   ],
   "source": [
    "sys.getsizeof(compressed.decompress())"
   ]
  },
  {
   "cell_type": "markdown",
   "metadata": {},
   "source": [
    "### 1.3. Unbreakable Criptografy"
   ]
  },
  {
   "cell_type": "code",
   "execution_count": 12,
   "metadata": {},
   "outputs": [],
   "source": [
    "from secrets import token_bytes\n",
    "from typing import Tuple"
   ]
  },
  {
   "cell_type": "code",
   "execution_count": 13,
   "metadata": {},
   "outputs": [],
   "source": [
    "def random_key(length: int) -> int:\n",
    "    tb: bytes = token_bytes(length)\n",
    "    return int.from_bytes(tb, \"big\")"
   ]
  },
  {
   "cell_type": "code",
   "execution_count": 14,
   "metadata": {},
   "outputs": [
    {
     "data": {
      "text/plain": [
       "75588784"
      ]
     },
     "execution_count": 14,
     "metadata": {},
     "output_type": "execute_result"
    }
   ],
   "source": [
    "random_key(4)"
   ]
  },
  {
   "cell_type": "code",
   "execution_count": 15,
   "metadata": {},
   "outputs": [
    {
     "data": {
      "text/plain": [
       "b'\\xcdk+w\\x90\\x18'"
      ]
     },
     "execution_count": 15,
     "metadata": {},
     "output_type": "execute_result"
    }
   ],
   "source": [
    "token_bytes(6)"
   ]
  },
  {
   "cell_type": "code",
   "execution_count": 16,
   "metadata": {},
   "outputs": [],
   "source": [
    "def encrypt(original: str) -> Tuple[int, int]:\n",
    "    original_bytes: bytes = original.encode()\n",
    "    dummy: int = random_key(len(original_bytes))\n",
    "    original_key: int = int.from_bytes(original_bytes, 'big')\n",
    "    encrypted: int = original_key ^ dummy # XOR\n",
    "    return dummy, encrypted        "
   ]
  },
  {
   "cell_type": "code",
   "execution_count": 17,
   "metadata": {},
   "outputs": [],
   "source": [
    "def decrypt(key1: int, key2: int) -> str:\n",
    "    decrypted: int = key1 ^ key2 # XOR\n",
    "    temp: bytes = decrypted.to_bytes((decrypted.bit_length() + 7) // 8, 'big')\n",
    "    return temp.decode()\n",
    "                                     "
   ]
  },
  {
   "cell_type": "code",
   "execution_count": 18,
   "metadata": {},
   "outputs": [],
   "source": [
    "key1, key2 =  encrypt('One Time Pad!')"
   ]
  },
  {
   "cell_type": "code",
   "execution_count": 19,
   "metadata": {},
   "outputs": [
    {
     "data": {
      "text/plain": [
       "'One Time Pad!'"
      ]
     },
     "execution_count": 19,
     "metadata": {},
     "output_type": "execute_result"
    }
   ],
   "source": [
    "decrypt(key1, key2)"
   ]
  },
  {
   "cell_type": "markdown",
   "metadata": {},
   "source": [
    "### 1.4. Calculating pi"
   ]
  },
  {
   "cell_type": "code",
   "execution_count": 20,
   "metadata": {},
   "outputs": [],
   "source": [
    "def calculate_pi(n_terms: int) -> float:\n",
    "    numerator: float = 4.0\n",
    "    denominator: float = 1.0\n",
    "    operation: float = 1.0\n",
    "    pi: float = 0.0\n",
    "    for _ in range(n_terms):\n",
    "        pi += operation * (numerator / denominator)\n",
    "        denominator += 2.0\n",
    "        operation *= -1.0\n",
    "    return pi"
   ]
  },
  {
   "cell_type": "code",
   "execution_count": 21,
   "metadata": {},
   "outputs": [
    {
     "name": "stdout",
     "output_type": "stream",
     "text": [
      "CPU times: user 227 ms, sys: 32 µs, total: 227 ms\n",
      "Wall time: 230 ms\n"
     ]
    },
    {
     "data": {
      "text/plain": [
       "3.1415916535897743"
      ]
     },
     "execution_count": 21,
     "metadata": {},
     "output_type": "execute_result"
    }
   ],
   "source": [
    "%time calculate_pi(1000000)"
   ]
  },
  {
   "cell_type": "markdown",
   "metadata": {},
   "source": [
    "### 1.5. Hanoi Towers"
   ]
  },
  {
   "cell_type": "code",
   "execution_count": 22,
   "metadata": {},
   "outputs": [],
   "source": [
    "from typing import TypeVar, Generic, List\n",
    "T = TypeVar('T')\n",
    "\n",
    "class Stack(Generic[T]):\n",
    "    def __init__(self) -> None:\n",
    "        self._container: List[T] = []\n",
    "    \n",
    "    def push(self, item: T) -> None:\n",
    "        self._container.append(item)\n",
    "    \n",
    "    def pop(self) -> None:\n",
    "        return self._container.pop()\n",
    "    \n",
    "    def __repr__(self) -> None:\n",
    "        return repr(self._container)\n",
    "    "
   ]
  },
  {
   "cell_type": "code",
   "execution_count": 23,
   "metadata": {},
   "outputs": [],
   "source": [
    "def hanoi(begin: Stack[int], end: Stack[int], temp: Stack[int], n:int) -> None:\n",
    "    if n == 1:\n",
    "        end.push(begin.pop())\n",
    "    else:\n",
    "        hanoi(begin, temp, end, n - 1)\n",
    "        hanoi(begin, end, temp, 1)\n",
    "        hanoi(temp, end, begin, n - 1)"
   ]
  },
  {
   "cell_type": "code",
   "execution_count": 25,
   "metadata": {},
   "outputs": [
    {
     "name": "stdout",
     "output_type": "stream",
     "text": [
      "CPU times: user 19 µs, sys: 1 µs, total: 20 µs\n",
      "Wall time: 24.6 µs\n",
      "CPU times: user 30 µs, sys: 0 ns, total: 30 µs\n",
      "Wall time: 34.1 µs\n",
      "CPU times: user 51 µs, sys: 0 ns, total: 51 µs\n",
      "Wall time: 56.3 µs\n",
      "CPU times: user 103 µs, sys: 0 ns, total: 103 µs\n",
      "Wall time: 108 µs\n",
      "CPU times: user 198 µs, sys: 0 ns, total: 198 µs\n",
      "Wall time: 204 µs\n",
      "CPU times: user 422 µs, sys: 0 ns, total: 422 µs\n",
      "Wall time: 428 µs\n",
      "CPU times: user 747 µs, sys: 0 ns, total: 747 µs\n",
      "Wall time: 753 µs\n",
      "CPU times: user 1.43 ms, sys: 14 µs, total: 1.45 ms\n",
      "Wall time: 1.45 ms\n",
      "CPU times: user 2.97 ms, sys: 0 ns, total: 2.97 ms\n",
      "Wall time: 2.98 ms\n",
      "CPU times: user 6.14 ms, sys: 0 ns, total: 6.14 ms\n",
      "Wall time: 6.07 ms\n",
      "CPU times: user 9.4 ms, sys: 0 ns, total: 9.4 ms\n",
      "Wall time: 9.19 ms\n",
      "CPU times: user 26.2 ms, sys: 0 ns, total: 26.2 ms\n",
      "Wall time: 27.3 ms\n",
      "CPU times: user 42.5 ms, sys: 0 ns, total: 42.5 ms\n",
      "Wall time: 42.4 ms\n",
      "CPU times: user 47.5 ms, sys: 0 ns, total: 47.5 ms\n",
      "Wall time: 47.5 ms\n",
      "CPU times: user 78.7 ms, sys: 0 ns, total: 78.7 ms\n",
      "Wall time: 78.6 ms\n",
      "CPU times: user 185 ms, sys: 3.71 ms, total: 189 ms\n",
      "Wall time: 192 ms\n",
      "CPU times: user 327 ms, sys: 0 ns, total: 327 ms\n",
      "Wall time: 327 ms\n",
      "CPU times: user 902 ms, sys: 34 µs, total: 902 ms\n",
      "Wall time: 920 ms\n",
      "CPU times: user 1.62 s, sys: 0 ns, total: 1.62 s\n",
      "Wall time: 1.63 s\n",
      "CPU times: user 2.7 s, sys: 0 ns, total: 2.7 s\n",
      "Wall time: 2.7 s\n",
      "CPU times: user 5.41 s, sys: 7.72 ms, total: 5.42 s\n",
      "Wall time: 5.45 s\n",
      "CPU times: user 10.7 s, sys: 3.96 ms, total: 10.7 s\n",
      "Wall time: 10.7 s\n"
     ]
    }
   ],
   "source": [
    "for n in range(3, 25):\n",
    "    num_discs: int = n\n",
    "    tower_a: Stack[int] = Stack()\n",
    "    tower_b: Stack[int] = Stack()\n",
    "    tower_c: Stack[int] = Stack()\n",
    "\n",
    "    for i in range(1, num_discs + 1):\n",
    "        tower_a.push(i)\n",
    "\n",
    "    %time hanoi(tower_a, tower_b, tower_c, num_discs)\n"
   ]
  },
  {
   "cell_type": "markdown",
   "metadata": {},
   "source": [
    "## Chapter 2 - Search Problems\n",
    "### 2.1. Storing DNA"
   ]
  },
  {
   "cell_type": "code",
   "execution_count": 2,
   "metadata": {},
   "outputs": [],
   "source": [
    "from enum import IntEnum\n",
    "from typing import Tuple, List"
   ]
  },
  {
   "cell_type": "code",
   "execution_count": 6,
   "metadata": {},
   "outputs": [],
   "source": [
    "Nucleotide: IntEnum = IntEnum('Nucleotide', ('A', 'C', 'G', 'T'))\n",
    "Codon =  Tuple[Nucleotide, Nucleotide, Nucleotide]\n",
    "Gene =  List[Codon]"
   ]
  },
  {
   "cell_type": "code",
   "execution_count": 15,
   "metadata": {},
   "outputs": [
    {
     "data": {
      "text/plain": [
       "<Nucleotide.A: 1>"
      ]
     },
     "execution_count": 15,
     "metadata": {},
     "output_type": "execute_result"
    },
    {
     "data": {
      "text/plain": [
       "<Nucleotide.C: 2>"
      ]
     },
     "execution_count": 15,
     "metadata": {},
     "output_type": "execute_result"
    },
    {
     "data": {
      "text/plain": [
       "<Nucleotide.G: 3>"
      ]
     },
     "execution_count": 15,
     "metadata": {},
     "output_type": "execute_result"
    },
    {
     "data": {
      "text/plain": [
       "<Nucleotide.T: 4>"
      ]
     },
     "execution_count": 15,
     "metadata": {},
     "output_type": "execute_result"
    }
   ],
   "source": [
    "Nucleotide(1)\n",
    "Nucleotide(2)\n",
    "Nucleotide(3)\n",
    "Nucleotide(4)"
   ]
  },
  {
   "cell_type": "code",
   "execution_count": 20,
   "metadata": {},
   "outputs": [
    {
     "data": {
      "text/plain": [
       "typing.Tuple[__main__.Nucleotide, __main__.Nucleotide, __main__.Nucleotide]"
      ]
     },
     "execution_count": 20,
     "metadata": {},
     "output_type": "execute_result"
    }
   ],
   "source": [
    "Codon"
   ]
  },
  {
   "cell_type": "code",
   "execution_count": 7,
   "metadata": {},
   "outputs": [],
   "source": [
    "gene_str: str = 'ACGTGGCTCTCTAACGTACGTACGGGGTTTATATATACCCTAGGACTCCCTTT'"
   ]
  },
  {
   "cell_type": "code",
   "execution_count": 30,
   "metadata": {},
   "outputs": [],
   "source": [
    "def string_to_gene(s: str) -> Gene:\n",
    "    gene: Gene = []\n",
    "    for i in range(0, len(s), 3):\n",
    "        if (i + 2) >= len(s):\n",
    "            return gene\n",
    "        codon: Codon = (Nucleotide[s[i]], Nucleotide[s[i+1]], Nucleotide[s[i+2]])\n",
    "        gene.append(codon)\n",
    "    return gene"
   ]
  },
  {
   "cell_type": "code",
   "execution_count": 31,
   "metadata": {},
   "outputs": [],
   "source": [
    "my_gene: Gene = string_to_gene(gene_str)"
   ]
  },
  {
   "cell_type": "code",
   "execution_count": 34,
   "metadata": {},
   "outputs": [
    {
     "data": {
      "text/plain": [
       "[(<Nucleotide.A: 1>, <Nucleotide.C: 2>, <Nucleotide.G: 3>),\n",
       " (<Nucleotide.T: 4>, <Nucleotide.G: 3>, <Nucleotide.G: 3>),\n",
       " (<Nucleotide.C: 2>, <Nucleotide.T: 4>, <Nucleotide.C: 2>),\n",
       " (<Nucleotide.T: 4>, <Nucleotide.C: 2>, <Nucleotide.T: 4>),\n",
       " (<Nucleotide.A: 1>, <Nucleotide.A: 1>, <Nucleotide.C: 2>),\n",
       " (<Nucleotide.G: 3>, <Nucleotide.T: 4>, <Nucleotide.A: 1>),\n",
       " (<Nucleotide.C: 2>, <Nucleotide.G: 3>, <Nucleotide.T: 4>),\n",
       " (<Nucleotide.A: 1>, <Nucleotide.C: 2>, <Nucleotide.G: 3>),\n",
       " (<Nucleotide.G: 3>, <Nucleotide.G: 3>, <Nucleotide.G: 3>),\n",
       " (<Nucleotide.T: 4>, <Nucleotide.T: 4>, <Nucleotide.T: 4>),\n",
       " (<Nucleotide.A: 1>, <Nucleotide.T: 4>, <Nucleotide.A: 1>),\n",
       " (<Nucleotide.T: 4>, <Nucleotide.A: 1>, <Nucleotide.T: 4>),\n",
       " (<Nucleotide.A: 1>, <Nucleotide.C: 2>, <Nucleotide.C: 2>),\n",
       " (<Nucleotide.C: 2>, <Nucleotide.T: 4>, <Nucleotide.A: 1>),\n",
       " (<Nucleotide.G: 3>, <Nucleotide.G: 3>, <Nucleotide.A: 1>),\n",
       " (<Nucleotide.C: 2>, <Nucleotide.T: 4>, <Nucleotide.C: 2>),\n",
       " (<Nucleotide.C: 2>, <Nucleotide.C: 2>, <Nucleotide.T: 4>)]"
      ]
     },
     "execution_count": 34,
     "metadata": {},
     "output_type": "execute_result"
    }
   ],
   "source": [
    "my_gene"
   ]
  },
  {
   "cell_type": "code",
   "execution_count": 38,
   "metadata": {},
   "outputs": [],
   "source": [
    "def linear_contains(gene: Gene, key_codon: Codon) -> bool:\n",
    "    for codon in gene:\n",
    "        if codon == key_codon:\n",
    "            return True\n",
    "    return False"
   ]
  },
  {
   "cell_type": "code",
   "execution_count": 37,
   "metadata": {},
   "outputs": [],
   "source": [
    "acg: Codon = (Nucleotide.A, Nucleotide.C, Nucleotide.G)\n",
    "gat: Codon = (Nucleotide.G, Nucleotide.A, Nucleotide.T)"
   ]
  },
  {
   "cell_type": "code",
   "execution_count": 40,
   "metadata": {},
   "outputs": [
    {
     "name": "stdout",
     "output_type": "stream",
     "text": [
      "True\n",
      "False\n"
     ]
    }
   ],
   "source": [
    "print(linear_contains(my_gene, acg))\n",
    "print(linear_contains(my_gene, gat))"
   ]
  },
  {
   "cell_type": "code",
   "execution_count": null,
   "metadata": {},
   "outputs": [],
   "source": [
    "### 2.1. Binary Search"
   ]
  }
 ],
 "metadata": {
  "kernelspec": {
   "display_name": "jeitto",
   "language": "python",
   "name": "jeitto"
  },
  "language_info": {
   "codemirror_mode": {
    "name": "ipython",
    "version": 3
   },
   "file_extension": ".py",
   "mimetype": "text/x-python",
   "name": "python",
   "nbconvert_exporter": "python",
   "pygments_lexer": "ipython3",
   "version": "3.7.5"
  }
 },
 "nbformat": 4,
 "nbformat_minor": 4
}
